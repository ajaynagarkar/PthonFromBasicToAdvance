{
 "cells": [
  {
   "cell_type": "code",
   "execution_count": null,
   "id": "1e461331",
   "metadata": {},
   "outputs": [],
   "source": []
  },
  {
   "cell_type": "code",
   "execution_count": 2,
   "id": "dacf8bdc",
   "metadata": {},
   "outputs": [
    {
     "name": "stdout",
     "output_type": "stream",
     "text": [
      "enter the stringajay nagarkar\n",
      "leng of sting 13\n"
     ]
    }
   ],
   "source": [
    "# find the length of a given string without using len() function\n",
    "\n",
    "s = input('enter the string')\n",
    "\n",
    "counter = 0\n",
    "\n",
    "for i in s:\n",
    "    counter+= 1\n",
    "print('leng of sting', counter)"
   ]
  },
  {
   "cell_type": "code",
   "execution_count": 5,
   "id": "7436193f",
   "metadata": {},
   "outputs": [
    {
     "name": "stdout",
     "output_type": "stream",
     "text": [
      "enter the emailajay101nagarkar@gmail.com\n",
      "ajay101nagarkar\n"
     ]
    }
   ],
   "source": [
    "# extract user name from given email\n",
    "# eg if email is nitish24singh@gmail.com\n",
    "#then the username name should be nitish24singh\n",
    "\n",
    "\n",
    "s = input('enter the email')\n",
    "\n",
    "position = s.index('@')\n",
    "print(s[0:position])"
   ]
  },
  {
   "cell_type": "code",
   "execution_count": 6,
   "id": "18d005bb",
   "metadata": {},
   "outputs": [
    {
     "name": "stdout",
     "output_type": "stream",
     "text": [
      "enter stringajayramandsham\n",
      "enter the term to searcha\n",
      "frequncy 18\n"
     ]
    }
   ],
   "source": [
    "# count frequency of perticular charctor in provided string\n",
    "# eg. hello how are you,  is the string the frequency of h in sting is 2\n",
    "\n",
    "s = input('enter string')\n",
    "term = input('enter the term to search')\n",
    "conter =0\n",
    "for i in s:\n",
    "    if i == term:\n",
    "        counter+=1\n",
    "    \n",
    "print('frequncy',counter)"
   ]
  },
  {
   "cell_type": "code",
   "execution_count": 7,
   "id": "28d0b4f4",
   "metadata": {},
   "outputs": [
    {
     "name": "stdout",
     "output_type": "stream",
     "text": [
      "enter stringakaujayaakaijj\n",
      "enter the term to searchj\n",
      "akauayaakai\n"
     ]
    }
   ],
   "source": [
    "# write the program which can remove a particular character form a string\n",
    "\n",
    "s = input('enter string')\n",
    "term = input('enter the term to search')\n",
    "result =''\n",
    "for i in s:\n",
    "    if i != term:\n",
    "        result += i\n",
    "print(result)\n",
    "        "
   ]
  },
  {
   "cell_type": "code",
   "execution_count": 9,
   "id": "9092764e",
   "metadata": {},
   "outputs": [
    {
     "name": "stdout",
     "output_type": "stream",
     "text": [
      "enter stringajay\n",
      "not a palindrom\n"
     ]
    }
   ],
   "source": [
    "# write  a program that can check wether a given string is palindrom or not\n",
    "#abba, malayalam\n",
    "s = input('enter string')\n",
    "flag = True\n",
    "for i in range(0, len(s)//2):\n",
    "    if s[i] != s[len(s)-i-1]:\n",
    "        flag = False\n",
    "        print('not a palindrom')\n",
    "        break\n",
    "if flag:\n",
    "    print('Palindrom')\n",
    "        \n",
    "        "
   ]
  },
  {
   "cell_type": "code",
   "execution_count": 12,
   "id": "aeaa9821",
   "metadata": {},
   "outputs": [
    {
     "name": "stdout",
     "output_type": "stream",
     "text": [
      "enter stringjaay jadkfj\n",
      "['jaay', 'jadkfj']\n"
     ]
    }
   ],
   "source": [
    "# writye a progrmam to count the number of words in a string without split()\n",
    "\n",
    "s = input('enter string')\n",
    "L = []\n",
    "temp = ''\n",
    "for i in s:\n",
    "    if i!= ' ':\n",
    "        temp+=i\n",
    "    else:\n",
    "        L.append(temp)\n",
    "        temp =''\n",
    "\n",
    "L.append(temp)        \n",
    "print(L)"
   ]
  },
  {
   "cell_type": "markdown",
   "id": "e1f33eee",
   "metadata": {},
   "source": [
    "# Write  apython progrma to convet a string to title case without using title()\n",
    "s = input('enter the string')\n",
    "l=[]\n",
    "for i in s.split():\n",
    "    l.append(i[0].upper() + i[1:].lower())\n",
    "    \n",
    "    \n",
    "print(\" \".join(l))\n",
    "\n",
    "          "
   ]
  },
  {
   "cell_type": "code",
   "execution_count": 3,
   "id": "50347525",
   "metadata": {},
   "outputs": [
    {
     "name": "stdout",
     "output_type": "stream",
     "text": [
      "enter the number2552\n",
      "2552\n",
      "<class 'str'>\n"
     ]
    }
   ],
   "source": [
    "# write a program that can covert an interger into string\n",
    "\n",
    "number = int(input('enter the number'))\n",
    "digits = '0123456789'\n",
    "result = ''\n",
    "while number!=0:\n",
    "    result = digits[number%10] + result\n",
    "    number = number//10\n",
    "    \n",
    "print(result)\n",
    "print(type(result))\n",
    "    "
   ]
  },
  {
   "cell_type": "markdown",
   "id": "c457b41f",
   "metadata": {},
   "source": [
    "# List data type\n",
    "\n",
    "### what is list\n"
   ]
  },
  {
   "cell_type": "code",
   "execution_count": 4,
   "id": "5a5bb7d2",
   "metadata": {},
   "outputs": [],
   "source": [
    "## list is data type where you can store multiple itmes under 1 name, \n",
    "#like act dynamic arrys which means you can add more item on the fly"
   ]
  },
  {
   "cell_type": "code",
   "execution_count": null,
   "id": "6555c859",
   "metadata": {},
   "outputs": [],
   "source": [
    "## arrray are fixed \n",
    "## array are homogenous\n",
    "## speed of execution is less than array\n",
    "## list occupies more space\n",
    "\n"
   ]
  },
  {
   "cell_type": "code",
   "execution_count": null,
   "id": "d14e897b",
   "metadata": {},
   "outputs": [],
   "source": [
    "# charactristic of list\n",
    "'''\n",
    "order matter in list\n",
    "mutable\n",
    "heterogenous\n",
    "we can have dulplictes\n",
    "are dyanamic\n",
    "can be nested(we can put list in list)\n",
    "item can be accessed\n",
    "can contian any kind of objects in python\n",
    "'''"
   ]
  },
  {
   "cell_type": "code",
   "execution_count": 11,
   "id": "eafb1562",
   "metadata": {},
   "outputs": [
    {
     "name": "stdout",
     "output_type": "stream",
     "text": [
      "[]\n",
      "[1, 2, 3, 4]\n",
      "[1, 2, 3.4, [1, 2, 3]]\n",
      "[[[[1, 2]], [[2, 3], [1, 2]]]]\n",
      "[1, True, [1, 2, 3], 'hello']\n",
      "['h', 'e', 'l', 'l', 'o']\n"
     ]
    }
   ],
   "source": [
    "\n",
    "# creating list\n",
    "#empty\n",
    "print([])\n",
    "#1D list / homogenous\n",
    "print([1,2,3,4])\n",
    "#2D list/ nested list\n",
    "print([1,2,3.4,[1,2,3]])\n",
    "#3D list\n",
    "print([[[[1,2]],[[2,3],[1,2]]]])#homogenous\n",
    "\n",
    "# heterogenous list\n",
    "print([1,True,[1,2,3],'hello'])\n",
    "\n",
    "# using type conversion\n",
    "print(list('hello'))"
   ]
  },
  {
   "cell_type": "code",
   "execution_count": 18,
   "id": "f3c3dd89",
   "metadata": {},
   "outputs": [
    {
     "name": "stdout",
     "output_type": "stream",
     "text": [
      "1\n",
      "4\n",
      "[1, 2, 3]\n",
      "1\n",
      "2\n"
     ]
    }
   ],
   "source": [
    "# acessing itmes in the list\n",
    "\n",
    "#indexing\n",
    "l= [1,2,3,4]\n",
    "print(l[0])# postive indexing\n",
    "print(l[-1])\n",
    "print(l[0:3])\n",
    "\n",
    "\n",
    "L= [1,2,3,[1,2]]\n",
    "print(L[-1][0])\n",
    "print(L[-1][1])"
   ]
  },
  {
   "cell_type": "code",
   "execution_count": 24,
   "id": "2b93c16f",
   "metadata": {},
   "outputs": [
    {
     "name": "stdout",
     "output_type": "stream",
     "text": [
      "2\n"
     ]
    }
   ],
   "source": [
    "L= [[[[1, 2]], [[2, 3], [1, 2]]]]\n",
    "print(L[0][0][0][1])"
   ]
  },
  {
   "cell_type": "code",
   "execution_count": 27,
   "id": "ea7a0be9",
   "metadata": {},
   "outputs": [
    {
     "data": {
      "text/plain": [
       "[3, 45, 5]"
      ]
     },
     "execution_count": 27,
     "metadata": {},
     "output_type": "execute_result"
    }
   ],
   "source": [
    "# slicing\n",
    "l=[1,2,3,45,5]\n",
    "l[0:3]\n",
    "l[-3:]"
   ]
  },
  {
   "cell_type": "code",
   "execution_count": 30,
   "id": "9bc62d04",
   "metadata": {},
   "outputs": [
    {
     "name": "stdout",
     "output_type": "stream",
     "text": [
      "[1, 2, 3, 45, 5, 'hello']\n"
     ]
    }
   ],
   "source": [
    "# append\n",
    "l=[1,2,3,45,5]\n",
    "l.append('hello')\n",
    "print(l)\n",
    "# add only one item at a time"
   ]
  },
  {
   "cell_type": "code",
   "execution_count": 34,
   "id": "326504ec",
   "metadata": {},
   "outputs": [
    {
     "name": "stdout",
     "output_type": "stream",
     "text": [
      "[1, 2, 3, 45, 5, 1, 2, 3]\n",
      "[1, 2, 3, 45, 5, 1, 2, 3, [1, 2, 2]]\n"
     ]
    }
   ],
   "source": [
    "# extend \n",
    "l=[1,2,3,45,5]\n",
    "l.extend([1,2,3])\n",
    "print(l)\n",
    "l.append([1,2,2])\n",
    "print(l)"
   ]
  },
  {
   "cell_type": "code",
   "execution_count": 35,
   "id": "e8d10f07",
   "metadata": {},
   "outputs": [
    {
     "name": "stdout",
     "output_type": "stream",
     "text": [
      "[1, 2, 3, 45, 5, 'd', 'e', 'l', 'h', 'i']\n"
     ]
    }
   ],
   "source": [
    "l=[1,2,3,45,5]\n",
    "l.extend('delhi')\n",
    "print(l)"
   ]
  },
  {
   "cell_type": "code",
   "execution_count": 40,
   "id": "c469123c",
   "metadata": {},
   "outputs": [
    {
     "name": "stdout",
     "output_type": "stream",
     "text": [
      "[1, 2, 3, 45, 5, 100]\n"
     ]
    }
   ],
   "source": [
    "# insert\n",
    "l=[1,2,3,45,5]\n",
    "l.insert(6,100)\n",
    "print(l)"
   ]
  },
  {
   "cell_type": "code",
   "execution_count": 42,
   "id": "678b954f",
   "metadata": {},
   "outputs": [
    {
     "name": "stdout",
     "output_type": "stream",
     "text": [
      "[1, 200, 300, 400, 500]\n"
     ]
    }
   ],
   "source": [
    "## edit exiting item in list(with indexing and slicing)\n",
    "\n",
    "l=[1,2,3,45,5]\n",
    "l[-1]=500\n",
    "l[1:4]=200,300,400\n",
    "\n",
    "print(l)"
   ]
  },
  {
   "cell_type": "code",
   "execution_count": 44,
   "id": "a10a0837",
   "metadata": {},
   "outputs": [
    {
     "ename": "NameError",
     "evalue": "name 'l' is not defined",
     "output_type": "error",
     "traceback": [
      "\u001b[1;31m---------------------------------------------------------------------------\u001b[0m",
      "\u001b[1;31mNameError\u001b[0m                                 Traceback (most recent call last)",
      "Cell \u001b[1;32mIn[44], line 5\u001b[0m\n\u001b[0;32m      3\u001b[0m l\u001b[38;5;241m=\u001b[39m[\u001b[38;5;241m1\u001b[39m,\u001b[38;5;241m2\u001b[39m,\u001b[38;5;241m3\u001b[39m,\u001b[38;5;241m45\u001b[39m,\u001b[38;5;241m5\u001b[39m]\n\u001b[0;32m      4\u001b[0m \u001b[38;5;28;01mdel\u001b[39;00m l\n\u001b[1;32m----> 5\u001b[0m \u001b[38;5;28mprint\u001b[39m(l)\n",
      "\u001b[1;31mNameError\u001b[0m: name 'l' is not defined"
     ]
    }
   ],
   "source": [
    "# deleting items form list\n",
    "#del\n",
    "l=[1,2,3,45,5]\n",
    "del l\n",
    "print(l)"
   ]
  },
  {
   "cell_type": "code",
   "execution_count": 46,
   "id": "73a7cf7c",
   "metadata": {},
   "outputs": [
    {
     "name": "stdout",
     "output_type": "stream",
     "text": [
      "[1, 2, 3, 45]\n",
      "[1, 45]\n"
     ]
    }
   ],
   "source": [
    "l=[1,2,3,45,5]\n",
    "del l[-1]\n",
    "print(l)\n",
    "\n",
    "del l[1:3]\n",
    "print(l)"
   ]
  },
  {
   "cell_type": "code",
   "execution_count": 48,
   "id": "beb4b852",
   "metadata": {},
   "outputs": [
    {
     "name": "stdout",
     "output_type": "stream",
     "text": [
      "[2, 3, 45, 5]\n"
     ]
    }
   ],
   "source": [
    "# remove\n",
    "\n",
    "l=[1,2,3,45,5]\n",
    "l.remove(1)\n",
    "print(l)"
   ]
  },
  {
   "cell_type": "code",
   "execution_count": 51,
   "id": "3c384941",
   "metadata": {},
   "outputs": [
    {
     "name": "stdout",
     "output_type": "stream",
     "text": [
      "[2, 3, 45, 5]\n",
      "[2, 3, 45]\n"
     ]
    }
   ],
   "source": [
    "#pop wants the index for processing\n",
    "\n",
    "l=[1,2,3,45,5]\n",
    "l.pop(0)\n",
    "print(l)\n",
    "\n",
    "\n",
    "l.pop()# default delet the last numbeer\n",
    "print(l)"
   ]
  },
  {
   "cell_type": "code",
   "execution_count": 57,
   "id": "d9bd0334",
   "metadata": {},
   "outputs": [
    {
     "name": "stdout",
     "output_type": "stream",
     "text": [
      "[1, 2, 3, 4, 5, 1, 2, 3, 45, [5, 6]]\n",
      "[1, 2, 3, 4, 5, 1, 2, 3, 4, 5, 1, 2, 3, 4, 5]\n",
      "False\n",
      "False\n"
     ]
    }
   ],
   "source": [
    "# operations on list\n",
    "\n",
    "l1 = [1,2,3,4,5]\n",
    "l=[1,2,3,45,[5,6]]\n",
    "\n",
    "# merger or concat\n",
    "print(l1+l)\n",
    "\n",
    "print(l1*3)\n",
    "\n",
    "# memership oprator\n",
    "\n",
    "print(5  not in l1)\n",
    "\n",
    "print(5 in l)"
   ]
  },
  {
   "cell_type": "code",
   "execution_count": 59,
   "id": "5e5284e2",
   "metadata": {},
   "outputs": [
    {
     "name": "stdout",
     "output_type": "stream",
     "text": [
      "1\n",
      "2\n",
      "3\n",
      "4\n",
      "5\n",
      "1\n",
      "2\n",
      "3\n",
      "45\n",
      "[5, 6]\n"
     ]
    }
   ],
   "source": [
    "# loops\n",
    "for  i in l1:\n",
    "    print(i)\n",
    "    \n",
    "for i in l:\n",
    "    print(i)"
   ]
  },
  {
   "cell_type": "markdown",
   "id": "4bdc03cf",
   "metadata": {},
   "source": [
    "# list funcitons"
   ]
  },
  {
   "cell_type": "code",
   "execution_count": 63,
   "id": "38517891",
   "metadata": {},
   "outputs": [
    {
     "name": "stdout",
     "output_type": "stream",
     "text": [
      "5\n",
      "45\n",
      "1\n",
      "[1, 2, 3, 5, 45]\n"
     ]
    }
   ],
   "source": [
    "l=[1,2,3,45,5]\n",
    "\n",
    "print(len(l))\n",
    "\n",
    "print(max(l))\n",
    "\n",
    "print(min(l))\n",
    "print(sorted(l))"
   ]
  },
  {
   "cell_type": "code",
   "execution_count": 71,
   "id": "a5df8c3c",
   "metadata": {},
   "outputs": [
    {
     "name": "stdout",
     "output_type": "stream",
     "text": [
      "2\n",
      "3\n"
     ]
    }
   ],
   "source": [
    "# count\n",
    "l=[1,2,2,1,3,3,4,4,4,5]\n",
    "print(l.count(1))\n",
    "print(l.count(4))"
   ]
  },
  {
   "cell_type": "code",
   "execution_count": 72,
   "id": "f6f9bcfe",
   "metadata": {},
   "outputs": [
    {
     "data": {
      "text/plain": [
       "2"
      ]
     },
     "execution_count": 72,
     "metadata": {},
     "output_type": "execute_result"
    }
   ],
   "source": [
    "#index\n",
    "\n",
    "l= [1,2,5,3,4,5]\n",
    "l.index(5)"
   ]
  },
  {
   "cell_type": "code",
   "execution_count": 73,
   "id": "ba37e50a",
   "metadata": {},
   "outputs": [
    {
     "name": "stdout",
     "output_type": "stream",
     "text": [
      "[2, 3, 2, 7, 4, 3, 6, 9, 8, 8, 7, 6, 5, 4, 3, 2, 1]\n"
     ]
    }
   ],
   "source": [
    "l=[1,2,3,4,5,6,7,8,8,9,6,3,4,7,2,3,2]\n",
    "l.reverse()#permently reverse the list\n",
    "print(l)"
   ]
  },
  {
   "cell_type": "code",
   "execution_count": 79,
   "id": "fb3ccb7d",
   "metadata": {},
   "outputs": [
    {
     "name": "stdout",
     "output_type": "stream",
     "text": [
      "[1, 2, 3, 4, 1, 5]\n",
      "[1, 1, 2, 3, 4, 5]\n",
      "[1, 2, 3, 4, 1, 5]\n"
     ]
    }
   ],
   "source": [
    "#sort vs soerted\n",
    "L = [1,2,3,4,1,5]\n",
    "print(L)\n",
    "print(sorted(L))# dose not going to touch the original and gives he new list for it\n",
    "print(L)"
   ]
  },
  {
   "cell_type": "code",
   "execution_count": 81,
   "id": "69fd11e9",
   "metadata": {},
   "outputs": [
    {
     "name": "stdout",
     "output_type": "stream",
     "text": [
      "[2, 3, 5, 6]\n",
      "2092802219072\n"
     ]
    }
   ],
   "source": [
    "# copy - > shallow copy\n",
    "L = [2,3,5,6]\n",
    "L1 = L.copy()\n",
    "print(L1)\n",
    "print(id(L1))"
   ]
  },
  {
   "cell_type": "markdown",
   "id": "3d5c622c",
   "metadata": {},
   "source": [
    "# list comprehension\n"
   ]
  },
  {
   "cell_type": "code",
   "execution_count": null,
   "id": "7aa12ac1",
   "metadata": {},
   "outputs": [],
   "source": [
    "## concise way of creating list\n",
    "'''\n",
    "newlist = [ expression for item in iterable if condition == True]\n",
    "\n",
    "more time efficient\n",
    "require fewer lines\n",
    "transforms interative statment into a formula'''"
   ]
  },
  {
   "cell_type": "code",
   "execution_count": 82,
   "id": "bb872fd1",
   "metadata": {},
   "outputs": [
    {
     "name": "stdout",
     "output_type": "stream",
     "text": [
      "[1, 2, 3, 4, 5, 6, 7, 8, 9]\n"
     ]
    }
   ],
   "source": [
    "# add 1 to 10 numbers to list\n",
    "L =[]\n",
    "for i in range(1,10):\n",
    "    L.append(i)\n",
    "print(L)"
   ]
  },
  {
   "cell_type": "code",
   "execution_count": 84,
   "id": "8cce93d9",
   "metadata": {},
   "outputs": [
    {
     "name": "stdout",
     "output_type": "stream",
     "text": [
      "[1, 2, 3, 4, 5, 6, 7, 8, 9, 10]\n"
     ]
    }
   ],
   "source": [
    "L= [i for i in range(1,11)]\n",
    "print(L)"
   ]
  },
  {
   "cell_type": "code",
   "execution_count": 89,
   "id": "246f42e4",
   "metadata": {},
   "outputs": [
    {
     "name": "stdout",
     "output_type": "stream",
     "text": [
      "[]\n",
      "[-6, -9, -12]\n"
     ]
    },
    {
     "data": {
      "text/plain": [
       "[-6, -9, -12]"
      ]
     },
     "execution_count": 89,
     "metadata": {},
     "output_type": "execute_result"
    }
   ],
   "source": [
    "# scalar multiplication on a vector\n",
    "v=[2,3,4]\n",
    "s=-3\n",
    "print(v*s)\n",
    "x=[]\n",
    "for i in v:\n",
    "    x.append(i*s)\n",
    "print(x)\n",
    "\n",
    "\n",
    "[s*i for i in v]"
   ]
  },
  {
   "cell_type": "code",
   "execution_count": 90,
   "id": "80fe0767",
   "metadata": {},
   "outputs": [
    {
     "data": {
      "text/plain": [
       "[1, 4, 9, 16]"
      ]
     },
     "execution_count": 90,
     "metadata": {},
     "output_type": "execute_result"
    }
   ],
   "source": [
    "# add squres\n",
    "L = [1,2,3,4]\n",
    "[i**2 for i in L]"
   ]
  },
  {
   "cell_type": "code",
   "execution_count": 92,
   "id": "0808d9b1",
   "metadata": {},
   "outputs": [
    {
     "data": {
      "text/plain": [
       "[5, 10, 15, 20, 25, 30, 35, 40, 45, 50]"
      ]
     },
     "execution_count": 92,
     "metadata": {},
     "output_type": "execute_result"
    }
   ],
   "source": [
    "# print all numbers which divisible by 5 in the range of 1 to 50\n",
    "\n",
    "[i for i in range(1,51) if i% 5==0]"
   ]
  },
  {
   "cell_type": "code",
   "execution_count": 99,
   "id": "aa26e002",
   "metadata": {},
   "outputs": [
    {
     "data": {
      "text/plain": [
       "['python']"
      ]
     },
     "execution_count": 99,
     "metadata": {},
     "output_type": "execute_result"
    }
   ],
   "source": [
    "# find languagus  whih start with leter p\n",
    "languages = ['java','python','c','javascript']\n",
    "[i for i in languages if i.startswith('p')]"
   ]
  },
  {
   "cell_type": "code",
   "execution_count": 101,
   "id": "bb1af475",
   "metadata": {},
   "outputs": [
    {
     "data": {
      "text/plain": [
       "['apple']"
      ]
     },
     "execution_count": 101,
     "metadata": {},
     "output_type": "execute_result"
    }
   ],
   "source": [
    "# nested if with list comprehension\n",
    "\n",
    "basket  = ['apple','gauva','cherry','bananna']\n",
    "my_fruits =[ 'apple','kiwi','grapes','bananna']\n",
    "\n",
    "\n",
    "[fruit for fruit in my_fruits if fruit in basket if fruit.startswith('a')]"
   ]
  },
  {
   "cell_type": "code",
   "execution_count": 103,
   "id": "41747a66",
   "metadata": {},
   "outputs": [
    {
     "data": {
      "text/plain": [
       "[[1, 2, 3], [2, 4, 6], [3, 6, 9]]"
      ]
     },
     "execution_count": 103,
     "metadata": {},
     "output_type": "execute_result"
    }
   ],
   "source": [
    "# print a (3,3) matrix using list comprehension --> Nested list comprehension\n",
    "\n",
    "[[i*j for i in range(1,4)] for j in range(1,4)]"
   ]
  },
  {
   "cell_type": "markdown",
   "id": "59c043c2",
   "metadata": {},
   "source": [
    "#catesian product --> list comprehension on 2 lists together\n",
    "\n",
    "L1 = [1,2,3,4]\n",
    "L2= [5,6,7,8]\n",
    "\n",
    "[i*j for i in L1 for j in L2]"
   ]
  },
  {
   "cell_type": "markdown",
   "id": "a1e877ad",
   "metadata": {},
   "source": [
    "# ways to traverse a list"
   ]
  },
  {
   "cell_type": "code",
   "execution_count": 106,
   "id": "cd34ba6a",
   "metadata": {},
   "outputs": [
    {
     "name": "stdout",
     "output_type": "stream",
     "text": [
      "0\n",
      "1\n",
      "2\n",
      "3\n"
     ]
    }
   ],
   "source": [
    "# indexwise\n",
    "L=[1,2,3,4]\n",
    "for i in range(0,len(L)):\n",
    "    print(i)"
   ]
  },
  {
   "cell_type": "code",
   "execution_count": 107,
   "id": "1ef6a56c",
   "metadata": {},
   "outputs": [
    {
     "name": "stdout",
     "output_type": "stream",
     "text": [
      "1\n",
      "2\n",
      "3\n",
      "4\n"
     ]
    }
   ],
   "source": [
    "# itemwise\n",
    "L=[1,2,3,4]\n",
    "for i in L:\n",
    "    print(i)"
   ]
  },
  {
   "cell_type": "markdown",
   "id": "43f84de8",
   "metadata": {},
   "source": [
    "## zip() --"
   ]
  },
  {
   "cell_type": "code",
   "execution_count": null,
   "id": "758b2cf0",
   "metadata": {},
   "outputs": [],
   "source": [
    "## returns zip object, which is na iterator of tuples where the first item in each passed "
   ]
  },
  {
   "cell_type": "code",
   "execution_count": 110,
   "id": "aa96ff9e",
   "metadata": {},
   "outputs": [
    {
     "data": {
      "text/plain": [
       "[5, 7, 9, 11]"
      ]
     },
     "execution_count": 110,
     "metadata": {},
     "output_type": "execute_result"
    }
   ],
   "source": [
    "l1= [1,2,3,4]\n",
    "l2=[4,5,6,7]\n",
    "list(zip(l1,l2))\n",
    "\n",
    "[i+j for i,j in zip(l1,l2)]"
   ]
  },
  {
   "cell_type": "code",
   "execution_count": 111,
   "id": "8eb56e7a",
   "metadata": {},
   "outputs": [
    {
     "name": "stdout",
     "output_type": "stream",
     "text": [
      "[1, 2, <built-in function print>, <class 'type'>, <bound method Kernel.raw_input of <ipykernel.ipkernel.IPythonKernel object at 0x000001E743CE7C50>>]\n"
     ]
    }
   ],
   "source": [
    "l = [1,2,print,type,input]\n",
    "print(l)"
   ]
  },
  {
   "cell_type": "code",
   "execution_count": null,
   "id": "fc3863d1",
   "metadata": {},
   "outputs": [],
   "source": []
  },
  {
   "cell_type": "code",
   "execution_count": 116,
   "id": "b65dd814",
   "metadata": {},
   "outputs": [],
   "source": [
    "# disavantages of python lists\n",
    "\n",
    "##slow\n",
    "#riskey uses\n",
    "#eats more meomery"
   ]
  },
  {
   "cell_type": "code",
   "execution_count": 115,
   "id": "cc1a5dd3",
   "metadata": {},
   "outputs": [
    {
     "name": "stdout",
     "output_type": "stream",
     "text": [
      "[1, 2, 3, 4]\n",
      "[1, 2, 3, 4]\n",
      "[1, 2, 3, 4, 4]\n",
      "[1, 2, 3, 4, 4]\n"
     ]
    }
   ],
   "source": [
    "l1=[1,2,3,4]\n",
    "b=l1\n",
    "\n",
    "print(l1)\n",
    "print(b)\n",
    "\n",
    "l1.append(4)\n",
    "print(l1)\n",
    "print(b)\n",
    "\n",
    "# list are mutable"
   ]
  },
  {
   "cell_type": "code",
   "execution_count": null,
   "id": "7f2dedca",
   "metadata": {},
   "outputs": [],
   "source": []
  },
  {
   "cell_type": "code",
   "execution_count": null,
   "id": "f19287bb",
   "metadata": {},
   "outputs": [],
   "source": []
  },
  {
   "cell_type": "code",
   "execution_count": null,
   "id": "a559228c",
   "metadata": {},
   "outputs": [],
   "source": []
  },
  {
   "cell_type": "code",
   "execution_count": null,
   "id": "577632d3",
   "metadata": {},
   "outputs": [],
   "source": []
  }
 ],
 "metadata": {
  "kernelspec": {
   "display_name": "Python 3 (ipykernel)",
   "language": "python",
   "name": "python3"
  },
  "language_info": {
   "codemirror_mode": {
    "name": "ipython",
    "version": 3
   },
   "file_extension": ".py",
   "mimetype": "text/x-python",
   "name": "python",
   "nbconvert_exporter": "python",
   "pygments_lexer": "ipython3",
   "version": "3.11.7"
  }
 },
 "nbformat": 4,
 "nbformat_minor": 5
}
