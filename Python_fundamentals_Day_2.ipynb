{
 "cells": [
  {
   "cell_type": "markdown",
   "id": "cfc6dcc0",
   "metadata": {},
   "source": [
    "# opreators"
   ]
  },
  {
   "cell_type": "raw",
   "id": "150d1383",
   "metadata": {},
   "source": [
    "Arithmatic oprators\n"
   ]
  },
  {
   "cell_type": "code",
   "execution_count": 1,
   "id": "6cb2a174",
   "metadata": {},
   "outputs": [
    {
     "name": "stdout",
     "output_type": "stream",
     "text": [
      "-1\n"
     ]
    }
   ],
   "source": [
    "print(5-6)"
   ]
  },
  {
   "cell_type": "code",
   "execution_count": 2,
   "id": "396ebe30",
   "metadata": {},
   "outputs": [
    {
     "name": "stdout",
     "output_type": "stream",
     "text": [
      "2.5\n"
     ]
    }
   ],
   "source": [
    "print(5/2)# divsion"
   ]
  },
  {
   "cell_type": "code",
   "execution_count": 3,
   "id": "5e48658e",
   "metadata": {},
   "outputs": [
    {
     "name": "stdout",
     "output_type": "stream",
     "text": [
      "2\n"
     ]
    }
   ],
   "source": [
    "print(5//2)#floor division gives the quetionet to no decimal point"
   ]
  },
  {
   "cell_type": "code",
   "execution_count": 4,
   "id": "28192b3b",
   "metadata": {},
   "outputs": [
    {
     "name": "stdout",
     "output_type": "stream",
     "text": [
      "1\n"
     ]
    }
   ],
   "source": [
    "print(5%2)#this gives the remainder"
   ]
  },
  {
   "cell_type": "code",
   "execution_count": 5,
   "id": "99d4ae03",
   "metadata": {},
   "outputs": [
    {
     "name": "stdout",
     "output_type": "stream",
     "text": [
      "25\n"
     ]
    }
   ],
   "source": [
    "print(5**2)#gives the exponetial"
   ]
  },
  {
   "cell_type": "markdown",
   "id": "2d2fd981",
   "metadata": {},
   "source": [
    "# Relation oprator"
   ]
  },
  {
   "cell_type": "code",
   "execution_count": 6,
   "id": "ea89527e",
   "metadata": {},
   "outputs": [
    {
     "name": "stdout",
     "output_type": "stream",
     "text": [
      "False\n",
      "False\n",
      "True\n",
      "False\n"
     ]
    }
   ],
   "source": [
    "print(4>5)\n",
    "print(4==5)\n",
    "print(4<5)\n",
    "print(4!=4)"
   ]
  },
  {
   "cell_type": "markdown",
   "id": "82b36a32",
   "metadata": {},
   "source": [
    "# logical oprators"
   ]
  },
  {
   "cell_type": "code",
   "execution_count": 9,
   "id": "016267ee",
   "metadata": {},
   "outputs": [
    {
     "name": "stdout",
     "output_type": "stream",
     "text": [
      "0\n",
      "1\n",
      "False\n"
     ]
    }
   ],
   "source": [
    "print(1 and 0)\n",
    "print(1 or 0)\n",
    "print(not 1)"
   ]
  },
  {
   "cell_type": "markdown",
   "id": "65f69094",
   "metadata": {},
   "source": [
    "# Bitwise oprator"
   ]
  },
  {
   "cell_type": "code",
   "execution_count": 14,
   "id": "fa3a2942",
   "metadata": {},
   "outputs": [
    {
     "name": "stdout",
     "output_type": "stream",
     "text": [
      "2\n",
      "3\n",
      "1\n",
      "-4\n",
      "0\n",
      "32\n"
     ]
    }
   ],
   "source": [
    "#opeator works on binary numbers\n",
    "\n",
    "print(2 & 3)#bitwise and oprator\n",
    "\n",
    "print(2 | 3) #bitwise or oprator\n",
    "\n",
    "print(2 ^ 3)# bitwise xor oprator\n",
    "\n",
    "print(~3)# bitwise not\n",
    "\n",
    "print(4>>3)# bitwise left oprator\n",
    "\n",
    "print(4<<3)#bitwise right oprtor\n"
   ]
  },
  {
   "cell_type": "markdown",
   "id": "4a6160d3",
   "metadata": {},
   "source": [
    "# Assingment oprator"
   ]
  },
  {
   "cell_type": "code",
   "execution_count": 19,
   "id": "10a08a63",
   "metadata": {},
   "outputs": [
    {
     "name": "stdout",
     "output_type": "stream",
     "text": [
      "2\n"
     ]
    }
   ],
   "source": [
    "a = 2  # 2 is literal\n",
    "\n",
    "a+=2 # a=a+2\n",
    "\n",
    "a -=2\n",
    "\n",
    "print(a)"
   ]
  },
  {
   "cell_type": "markdown",
   "id": "88270d16",
   "metadata": {},
   "source": [
    "# Memeber ship oprator\n"
   ]
  },
  {
   "cell_type": "code",
   "execution_count": 24,
   "id": "45e3ff5a",
   "metadata": {},
   "outputs": [
    {
     "name": "stdout",
     "output_type": "stream",
     "text": [
      "True\n",
      "False\n",
      "False\n"
     ]
    }
   ],
   "source": [
    "# in/not in\n",
    "\n",
    "print('D' in 'Delhi')\n",
    "\n",
    "print(\"D\" not in 'Delhi')\n",
    "\n",
    "print(1 in [2,3,4,5,6])"
   ]
  },
  {
   "cell_type": "code",
   "execution_count": 34,
   "id": "c5f9441a",
   "metadata": {},
   "outputs": [
    {
     "name": "stdout",
     "output_type": "stream",
     "text": [
      "Enter 3 digit number:345\n",
      "12\n"
     ]
    }
   ],
   "source": [
    "# program - find the sum of 3 digit number entered by user\n",
    "\n",
    "number = int(input('Enter 3 digit number:'))\n",
    "\n",
    "# 345 % 10 = 5\n",
    "a =(number%10)\n",
    "# 345 // 10 = 34\n",
    "number = number // 10\n",
    "# 34 % 10 = 4\n",
    "b= number % 10\n",
    "# 34 // 10 =3\n",
    "number= number // 10\n",
    "# 3 % 10 = 3\n",
    "c= number % 10\n",
    "\n",
    "\n",
    "d=a + b + c\n",
    "print(d)"
   ]
  },
  {
   "cell_type": "markdown",
   "id": "07585ab1",
   "metadata": {},
   "source": [
    "# if - else, for , while loops"
   ]
  },
  {
   "cell_type": "markdown",
   "id": "1c40f5b3",
   "metadata": {},
   "source": [
    "### if-else"
   ]
  },
  {
   "cell_type": "code",
   "execution_count": 1,
   "id": "919d255e",
   "metadata": {},
   "outputs": [
    {
     "name": "stdout",
     "output_type": "stream",
     "text": [
      "Enter your email:nitish.campusx@gmail.com\n",
      "enter your Password:123\n",
      "incorrect password\n",
      "enter your password agian:1234\n",
      "Welcom, finally!\n"
     ]
    }
   ],
   "source": [
    "# login program and indentation\n",
    "#email - nitish.campusx@.com\n",
    "#password - 1234\n",
    "\n",
    "email = input(\"Enter your email:\")\n",
    "password = input('enter your Password:')\n",
    "'''\n",
    "if condition:\n",
    "    #code\n",
    "else:\n",
    "    #code'''\n",
    "\n",
    "if email == 'nitish.campusx@gmail.com' and password == '1234':\n",
    "    print('welcome')\n",
    "elif email == 'nitish.campusx@gmail.com' and password != '1234':\n",
    "    print('incorrect password')\n",
    "    password = input('enter your password agian:')\n",
    "    if password == '1234':\n",
    "        print('Welcom, finally!')\n",
    "    else:\n",
    "        print('Beta you not worthy')\n",
    "else:\n",
    "    print('not correct')"
   ]
  },
  {
   "cell_type": "code",
   "execution_count": 15,
   "id": "8b9b1373",
   "metadata": {},
   "outputs": [
    {
     "name": "stdout",
     "output_type": "stream",
     "text": [
      "enter 1 number5\n",
      "enter 2 number5\n",
      "enter 3 number5\n",
      "smallest is 5\n"
     ]
    }
   ],
   "source": [
    "# find the min number 3 given number\n",
    "\n",
    "a = int(input('enter 1 number'))\n",
    "b = int(input('enter 2 number'))\n",
    "c = int(input('enter 3 number'))\n",
    "\n",
    "if a<b and a<c:\n",
    "    print('smallest is ',a)\n",
    "elif b<c and b<a:\n",
    "    print('smallest is ',b)\n",
    "else:\n",
    "    print('smallest is', c)\n",
    "    \n",
    "    "
   ]
  },
  {
   "cell_type": "code",
   "execution_count": 16,
   "id": "221e5a48",
   "metadata": {},
   "outputs": [
    {
     "name": "stdout",
     "output_type": "stream",
     "text": [
      "enter 1 number5\n",
      "enter 2 number6\n",
      "enter the operation+\n",
      "11\n"
     ]
    }
   ],
   "source": [
    "# menu driven calclulator\n",
    "a = int(input('enter 1 number'))\n",
    "b= int (input('enter 2 number'))\n",
    "\n",
    "op= input('enter the operation')\n",
    "\n",
    "if op == '+':\n",
    "    print(a+b)\n",
    "elif op == '-':\n",
    "    print(a-b)\n",
    "elif op == '*':\n",
    "    print(a*b)\n",
    "else:\n",
    "    print(a/b)"
   ]
  },
  {
   "cell_type": "code",
   "execution_count": 20,
   "id": "e9ac063e",
   "metadata": {},
   "outputs": [
    {
     "name": "stdout",
     "output_type": "stream",
     "text": [
      "Hi how can i help you\n",
      "1. Enter 1 for ping change\n",
      "2. enter 2 for balance chaeck\n",
      "3. enter 3 for withdrwal\n",
      "4.Enter 4 for exit\n",
      "1\n",
      "pin change\n"
     ]
    }
   ],
   "source": [
    "menu = input(\"\"\"Hi how can i help you\n",
    "1. Enter 1 for ping change\n",
    "2. enter 2 for balance chaeck\n",
    "3. enter 3 for withdrwal\n",
    "4.Enter 4 for exit\n",
    "\"\"\")\n",
    "if menu == '1':\n",
    "    print(\"pin change\")\n",
    "elif menu== '2':\n",
    "    print('for balnce check')\n",
    "else:\n",
    "    print('exit')"
   ]
  },
  {
   "cell_type": "markdown",
   "id": "f13f4de3",
   "metadata": {},
   "source": [
    "# Modules in python( math, keywords, random, datetime)"
   ]
  },
  {
   "cell_type": "markdown",
   "id": "51735d2a",
   "metadata": {},
   "source": [
    "## Math"
   ]
  },
  {
   "cell_type": "code",
   "execution_count": 22,
   "id": "8857dd0c",
   "metadata": {},
   "outputs": [
    {
     "data": {
      "text/plain": [
       "2"
      ]
     },
     "execution_count": 22,
     "metadata": {},
     "output_type": "execute_result"
    }
   ],
   "source": [
    "import math\n",
    "math.floor(2.5)"
   ]
  },
  {
   "cell_type": "markdown",
   "id": "325110a1",
   "metadata": {},
   "source": [
    "## keywords"
   ]
  },
  {
   "cell_type": "code",
   "execution_count": 28,
   "id": "0af3c531",
   "metadata": {},
   "outputs": [
    {
     "name": "stdout",
     "output_type": "stream",
     "text": [
      "['False', 'None', 'True', 'and', 'as', 'assert', 'async', 'await', 'break', 'class', 'continue', 'def', 'del', 'elif', 'else', 'except', 'finally', 'for', 'from', 'global', 'if', 'import', 'in', 'is', 'lambda', 'nonlocal', 'not', 'or', 'pass', 'raise', 'return', 'try', 'while', 'with', 'yield']\n"
     ]
    }
   ],
   "source": [
    "#reserved word in python complier\n",
    "import keyword\n",
    "a= print(keyword.kwlist)\n"
   ]
  },
  {
   "cell_type": "markdown",
   "id": "5a62478b",
   "metadata": {},
   "source": [
    "## random\n"
   ]
  },
  {
   "cell_type": "code",
   "execution_count": 29,
   "id": "ace06b0f",
   "metadata": {},
   "outputs": [
    {
     "name": "stdout",
     "output_type": "stream",
     "text": [
      "42\n"
     ]
    }
   ],
   "source": [
    "import random\n",
    "print(random.randint(1,100))"
   ]
  },
  {
   "cell_type": "markdown",
   "id": "23f3cb9a",
   "metadata": {},
   "source": [
    "## datetime\n"
   ]
  },
  {
   "cell_type": "code",
   "execution_count": 30,
   "id": "9f0bf2e8",
   "metadata": {},
   "outputs": [
    {
     "name": "stdout",
     "output_type": "stream",
     "text": [
      "2024-08-03 14:09:10.679015\n"
     ]
    }
   ],
   "source": [
    "import datetime\n",
    "print(datetime.datetime.now())"
   ]
  },
  {
   "cell_type": "code",
   "execution_count": 1,
   "id": "fecfc834",
   "metadata": {},
   "outputs": [
    {
     "name": "stdout",
     "output_type": "stream",
     "text": [
      "\n",
      "Please wait a moment while I gather a list of all available modules...\n",
      "\n"
     ]
    },
    {
     "name": "stderr",
     "output_type": "stream",
     "text": [
      "C:\\Users\\HP\\anaconda3\\Lib\\site-packages\\paramiko\\transport.py:219: CryptographyDeprecationWarning: Blowfish has been deprecated and will be removed in a future release\n",
      "  \"class\": algorithms.Blowfish,\n",
      "C:\\Users\\HP\\anaconda3\\Lib\\site-packages\\nltk\\twitter\\__init__.py:20: UserWarning: The twython library has not been installed. Some functionality from the twitter package will not be available.\n",
      "  warnings.warn(\n",
      "C:\\Users\\HP\\anaconda3\\Lib\\pkgutil.py:92: UserWarning: The numpy.array_api submodule is still experimental. See NEP 47.\n",
      "  __import__(info.name)\n",
      "C:\\Users\\HP\\anaconda3\\Lib\\site-packages\\_distutils_hack\\__init__.py:33: UserWarning: Setuptools is replacing distutils.\n",
      "  warnings.warn(\"Setuptools is replacing distutils.\")\n",
      "No QCoreApplication instance found. Application patches not applied. You have to call load_stylesheet function after instantiation of QApplication to take effect. \n",
      "C:\\Users\\HP\\anaconda3\\Lib\\pkgutil.py:107: VisibleDeprecationWarning:\n",
      "\n",
      "zmq.eventloop.minitornado is deprecated in pyzmq 14.0 and will be removed.\n",
      "    Install tornado itself to use zmq with the tornado IOLoop.\n",
      "    \n",
      "\n"
     ]
    },
    {
     "name": "stdout",
     "output_type": "stream",
     "text": [
      "6c7190bc8b55ffe67f57__mypyc colorsys            markupsafe          slugify\n",
      "IPython             comm                marshal             smart_open\n",
      "OpenSSL             commctrl            math                smmap\n",
      "PIL                 compileall          matplotlib          smtpd\n",
      "PyQt5               concurrent          matplotlib_inline   smtplib\n",
      "__future__          conda               mccabe              snappy\n",
      "__hello__           conda_build         mdit_py_plugins     sndhdr\n",
      "__phello__          conda_content_trust mdurl               sniffio\n",
      "_abc                conda_env           menuinst            snowballstemmer\n",
      "_aix_support        conda_index         mimetypes           socket\n",
      "_argon2_cffi_bindings conda_libmamba_solver mistune             socketserver\n",
      "_ast                conda_pack          mkl                 socks\n",
      "_asyncio            conda_package_handling mkl_fft             sockshandler\n",
      "_bisect             conda_package_streaming mmap                sortedcontainers\n",
      "_black_version      conda_token         mmapfile            soupsieve\n",
      "_blake2             conda_verify        mmsystem            sphinx\n",
      "_bootsubprocess     configparser        modulefinder        spyder\n",
      "_brotli             constantly          more_itertools      spyder_kernels\n",
      "_bz2                contextlib          mpmath              sqlalchemy\n",
      "_cffi_backend       contextvars         msgpack             sqlite3\n",
      "_codecs             contourpy           msilib              sre_compile\n",
      "_codecs_cn          cookiecutter        msvcrt              sre_constants\n",
      "_codecs_hk          copy                multidict           sre_parse\n",
      "_codecs_iso2022     copyreg             multipledispatch    ssl\n",
      "_codecs_jp          cpuinfo             multiprocessing     sspi\n",
      "_codecs_kr          crypt               munkres             sspicon\n",
      "_codecs_tw          cryptography        mypy                stack_data\n",
      "_collections        cssselect           mypy_extensions     stat\n",
      "_collections_abc    csv                 mypyc               statistics\n",
      "_compat_pickle      ctypes              nacl                statsmodels\n",
      "_compression        curl                navigator_updater   streamlit\n",
      "_contextvars        curses              nbclassic           string\n",
      "_csv                cwp                 nbclient            stringprep\n",
      "_ctypes             cycler              nbconvert           struct\n",
      "_ctypes_test        cytoolz             nbformat            subprocess\n",
      "_datetime           dask                nest_asyncio        sunau\n",
      "_decimal            dataclasses         netbios             sympy\n",
      "_distutils_hack     datashader          netrc               symtable\n",
      "_elementtree        datetime            networkx            sys\n",
      "_functools          dateutil            nltk                sysconfig\n",
      "_hashlib            dbi                 nntplib             tables\n",
      "_heapq              dbm                 notebook            tabnanny\n",
      "_imp                dde                 notebook_shim       tabulate\n",
      "_io                 debugpy             nt                  tarfile\n",
      "_json               decimal             ntpath              tblib\n",
      "_locale             decorator           ntsecuritycon       telnetlib\n",
      "_lsprof             defusedxml          nturl2path          tempfile\n",
      "_lzma               diff_match_patch    numba               tenacity\n",
      "_markupbase         difflib             numbergen           terminado\n",
      "_md5                dill                numbers             test\n",
      "_msi                dis                 numexpr             test_pycosat\n",
      "_multibytecodec     distributed         numpy               text_unidecode\n",
      "_multiprocessing    distro              numpydoc            textdistance\n",
      "_nsis               distutils           odbc                textwrap\n",
      "_opcode             docstring_to_markdown opcode              this\n",
      "_operator           doctest             openpyxl            threading\n",
      "_osx_support        docutils            operator            threadpoolctl\n",
      "_overlapped         dotenv              optparse            three_merge\n",
      "_pickle             email               os                  tifffile\n",
      "_plotly_future_     encodings           overrides           time\n",
      "_plotly_utils       ensurepip           packaging           timeit\n",
      "_py_abc             entrypoints         pandas              timer\n",
      "_pydecimal          enum                pandocfilters       tinycss2\n",
      "_pyio               erfa                panel               tkinter\n",
      "_pytest             errno               param               tldextract\n",
      "_queue              et_xmlfile          paramiko            tlz\n",
      "_random             executing           parsel              token\n",
      "_sha1               fastjsonschema      parso               tokenize\n",
      "_sha256             faulthandler        partd               toml\n",
      "_sha3               filecmp             past                tomlkit\n",
      "_sha512             fileinput           pathlib             tomllib\n",
      "_signal             filelock            pathspec            toolz\n",
      "_sitebuiltins       findspark           patsy               tornado\n",
      "_socket             flake8              pdb                 tqdm\n",
      "_sqlite3            flask               perfmon             trace\n",
      "_sre                fnmatch             pexpect             traceback\n",
      "_ssl                fontTools           pickle              tracemalloc\n",
      "_stat               fractions           pickleshare         traitlets\n",
      "_statistics         frozendict          pickletools         truststore\n",
      "_string             frozenlist          pip                 tty\n",
      "_strptime           fsspec              pipes               turtle\n",
      "_struct             ftplib              pkce                turtledemo\n",
      "_symtable           functools           pkg_resources       twisted\n",
      "_system_path        future              pkginfo             types\n",
      "_testbuffer         gc                  pkgutil             typing\n",
      "_testcapi           genericpath         platform            typing_extensions\n",
      "_testconsole        gensim              platformdirs        tzdata\n",
      "_testimportmultiple getopt              plistlib            tzlocal\n",
      "_testinternalcapi   getpass             plotly              uc_micro\n",
      "_testmultiphase     gettext             pluggy              ujson\n",
      "_thread             git                 ply                 unicodedata\n",
      "_threading_local    gitdb               poplib              unidecode\n",
      "_tkinter            glob                posixpath           unittest\n",
      "_tokenize           gmpy2               pprint              urllib\n",
      "_tracemalloc        graphlib            profile             urllib3\n",
      "_typing             greenlet            prometheus_client   uu\n",
      "_uuid               gzip                prompt_toolkit      uuid\n",
      "_warnings           h11                 protego             validators\n",
      "_weakref            h5py                pstats              venv\n",
      "_weakrefset         hashlib             psutil              w3lib\n",
      "_win32sysloader     heapdict            pty                 warnings\n",
      "_winapi             heapq               ptyprocess          watchdog\n",
      "_winxptheme         hmac                pure_eval           wave\n",
      "_xxsubinterpreters  holoviews           py                  wcwidth\n",
      "_yaml               html                py_compile          weakref\n",
      "_zoneinfo           http                pyarrow             webbrowser\n",
      "abc                 httpcore            pyasn1              webencodings\n",
      "adodbapi            httpx               pyasn1_modules      websocket\n",
      "aext_assistant      hvplot              pyclbr              werkzeug\n",
      "aext_assistant_server hyperlink           pycodestyle         whatthepatch\n",
      "aext_core           idlelib             pycosat             wheel\n",
      "aext_core_server    idna                pycparser           widgetsnbextension\n",
      "aext_shared         imagecodecs         pyct                win2kras\n",
      "afxres              imageio             pycurl              win32api\n",
      "aifc                imagesize           pydantic            win32clipboard\n",
      "aiobotocore         imaplib             pydeck              win32com\n",
      "aiofiles            imblearn            pydispatch          win32con\n",
      "aiohttp             imghdr              pydoc               win32console\n",
      "aioitertools        imp                 pydoc_data          win32cred\n",
      "aiosignal           importlib           pydocstyle          win32crypt\n",
      "aiosqlite           importlib_metadata  pyexpat             win32cryptcon\n",
      "alabaster           incremental         pyflakes            win32ctypes\n",
      "altair              inflection          pygments            win32event\n",
      "anaconda_anon_usage iniconfig           pylab               win32evtlog\n",
      "anaconda_catalogs   inspect             pylint              win32evtlogutil\n",
      "anaconda_cloud_auth intake              pylint_venv         win32file\n",
      "anaconda_navigator  intervaltree        pyls_spyder         win32gui\n",
      "anaconda_project    io                  pylsp               win32gui_struct\n",
      "antigravity         ipaddress           pylsp_black         win32help\n",
      "anyio               ipykernel           pylsp_jsonrpc       win32inet\n",
      "appdirs             ipykernel_launcher  pyodbc              win32inetcon\n",
      "archspec            ipython_genutils    pyparsing           win32job\n",
      "argon2              ipywidgets          pytest              win32lz\n",
      "argparse            isapi               pythoncom           win32net\n",
      "array               isort               pythonjsonlogger    win32netcon\n",
      "arrow               isympy              pytoolconfig        win32pdh\n",
      "ast                 itemadapter         pytz                win32pdhquery\n",
      "astroid             itemloaders         pyviz_comms         win32pdhutil\n",
      "astropy             itertools           pywin               win32pipe\n",
      "asttokens           itsdangerous        pywin32_bootstrap   win32print\n",
      "async_lru           jedi                pywin32_testutil    win32process\n",
      "asynchat            jellyfish           pywintypes          win32profile\n",
      "asyncio             jinja2              pywt                win32ras\n",
      "asyncore            jmespath            qdarkstyle          win32rcparser\n",
      "atexit              joblib              qstylizer           win32security\n",
      "atomicwrites        json                qtawesome           win32service\n",
      "attr                json5               qtconsole           win32serviceutil\n",
      "attrs               jsonpatch           qtpy                win32timezone\n",
      "audioop             jsonpointer         queue               win32trace\n",
      "automat             jsonschema          queuelib            win32traceutil\n",
      "autopep8            jsonschema_specifications quopri              win32transaction\n",
      "babel               jupyter             random              win32ts\n",
      "backports           jupyter_client      rasutil             win32ui\n",
      "base64              jupyter_console     re                  win32uiole\n",
      "bcrypt              jupyter_core        referencing         win32verstamp\n",
      "bdb                 jupyter_events      regcheck            win32wnet\n",
      "binaryornot         jupyter_lsp         regex               win_inet_pton\n",
      "binascii            jupyter_server      regutil             winerror\n",
      "binstar_client      jupyter_server_fileid repo_cli            winioctlcon\n",
      "bisect              jupyter_server_terminals reprlib             winnt\n",
      "black               jupyter_server_ydoc requests            winperf\n",
      "blackd              jupyter_ydoc        requests_file       winpty\n",
      "bleach              jupyterlab          requests_toolbelt   winreg\n",
      "blib2to3            jupyterlab_plotly   rfc3339_validator   winsound\n",
      "blinker             jupyterlab_pygments rfc3986_validator   winxpgui\n",
      "bokeh               jupyterlab_server   rich                winxptheme\n",
      "boltons             jupyterlab_widgets  rlcompleter         wrapt\n",
      "botocore            jwt                 rope                wsgiref\n",
      "bottleneck          keyring             rpds                xarray\n",
      "brotli              keyword             rtree               xdrlib\n",
      "bs4                 kiwisolver          ruamel_yaml         xlwings\n",
      "builtins            lazy_loader         runpy               xml\n",
      "bz2                 lazy_object_proxy   s3fs                xmlrpc\n",
      "cProfile            lckr_jupyterlab_variableinspector sched               xxlimited\n",
      "cachetools          lib2to3             scipy               xxlimited_35\n",
      "calendar            libarchive          scrapy              xxsubtype\n",
      "certifi             libfuturize         seaborn             xyzservices\n",
      "cffi                libmambapy          secrets             y_py\n",
      "cgi                 libpasteurize       select              yaml\n",
      "cgitb               lief                selectors           yapf\n",
      "chardet             linecache           semver              yapftests\n",
      "charset_normalizer  linkify_it          send2trash          yarl\n",
      "chunk               llvmlite            service_identity    ypy_websocket\n",
      "click               lmdb                servicemanager      zict\n",
      "cloudpickle         locale              setuptools          zipapp\n",
      "clyent              locket              shelve              zipfile\n",
      "cmath               logging             shlex               zipimport\n",
      "cmd                 lxml                shutil              zipp\n",
      "code                lz4                 signal              zlib\n",
      "codecs              lzma                sipbuild            zmq\n",
      "codeop              mailbox             site                zoneinfo\n",
      "collections         mailcap             six                 zope\n",
      "colorama            markdown            skimage             zstandard\n",
      "colorcet            markdown_it         sklearn             \n",
      "\n",
      "Enter any module name to get more help.  Or, type \"modules spam\" to search\n",
      "for modules whose name or summary contain the string \"spam\".\n",
      "\n"
     ]
    }
   ],
   "source": [
    "help('modules')"
   ]
  },
  {
   "cell_type": "markdown",
   "id": "fe566bc8",
   "metadata": {},
   "source": [
    "# Loops in python(for and while)"
   ]
  },
  {
   "cell_type": "markdown",
   "id": "d2bd38e3",
   "metadata": {},
   "source": [
    "### need of loops --> for making content in webpage, zomato orders, hotel website used loops for their formating the structure of it"
   ]
  },
  {
   "cell_type": "markdown",
   "id": "85eebfa3",
   "metadata": {},
   "source": [
    "#### while loops"
   ]
  },
  {
   "cell_type": "code",
   "execution_count": 2,
   "id": "94893405",
   "metadata": {},
   "outputs": [
    {
     "name": "stdout",
     "output_type": "stream",
     "text": [
      "enter the number:12\n",
      "12\n",
      "24\n",
      "36\n",
      "48\n",
      "60\n",
      "72\n",
      "84\n",
      "96\n",
      "108\n",
      "120\n"
     ]
    }
   ],
   "source": [
    "num=int(input('enter the number:'))\n",
    "i=1\n",
    "while(i<11):\n",
    "    print(num * i)\n",
    "    i +=1"
   ]
  },
  {
   "cell_type": "code",
   "execution_count": 3,
   "id": "ad5e73f9",
   "metadata": {},
   "outputs": [
    {
     "name": "stdout",
     "output_type": "stream",
     "text": [
      "1\n",
      "2\n",
      "limit exceed\n"
     ]
    }
   ],
   "source": [
    "# while loops with else\n",
    "x = 1\n",
    "while (x<3):\n",
    "    print(x)\n",
    "    x+=1\n",
    "else:\n",
    "    print('limit exceed')"
   ]
  },
  {
   "cell_type": "code",
   "execution_count": 1,
   "id": "3e6f61b6",
   "metadata": {},
   "outputs": [
    {
     "name": "stdout",
     "output_type": "stream",
     "text": [
      "enter gussing name54\n",
      "correct guess\n",
      "attempts 1\n"
     ]
    }
   ],
   "source": [
    "# Guessing game\n",
    "\n",
    "## generate random integer 1 to 100\n",
    "\n",
    "import random\n",
    "jakpot = random.randint(1,100)\n",
    "\n",
    "guess= int(input('enter gussing name'))\n",
    "counter = 1\n",
    "while guess == jakpot:\n",
    "    if guess < jakpot:\n",
    "        print('galat, guess higher')\n",
    "    else:\n",
    "        print('galt! guess lower')\n",
    "    guess= int(input('enter gussing name'))\n",
    "    counter +=1\n",
    "else: \n",
    "    print('correct guess')\n",
    "    print('attempts', counter)\n"
   ]
  },
  {
   "cell_type": "markdown",
   "id": "130c5c8e",
   "metadata": {},
   "source": [
    "### for loop"
   ]
  },
  {
   "cell_type": "code",
   "execution_count": 2,
   "id": "7f8dba3a",
   "metadata": {},
   "outputs": [
    {
     "name": "stdout",
     "output_type": "stream",
     "text": [
      "1\n",
      "2\n",
      "3\n",
      "4\n",
      "5\n",
      "6\n",
      "7\n",
      "8\n",
      "9\n",
      "10\n"
     ]
    }
   ],
   "source": [
    "for i in range(1,11):\n",
    "    print(i)"
   ]
  },
  {
   "cell_type": "code",
   "execution_count": 4,
   "id": "4f84d92d",
   "metadata": {},
   "outputs": [
    {
     "data": {
      "text/plain": [
       "range(1, 11)"
      ]
     },
     "execution_count": 4,
     "metadata": {},
     "output_type": "execute_result"
    }
   ],
   "source": [
    "range(1,11)"
   ]
  },
  {
   "cell_type": "code",
   "execution_count": 5,
   "id": "cfb01fb6",
   "metadata": {},
   "outputs": [],
   "source": [
    "# the current poplutaion of a town is 10000, the population of the town is increasing at the rate of 10% per year. you have\n",
    "# write a program to find out the population at the encd of each of the last 10 year"
   ]
  },
  {
   "cell_type": "code",
   "execution_count": 6,
   "id": "e89c62ba",
   "metadata": {},
   "outputs": [
    {
     "name": "stdout",
     "output_type": "stream",
     "text": [
      "10 10000\n",
      "9 9000.0\n",
      "8 8100.0\n",
      "7 7290.0\n",
      "6 6561.0\n",
      "5 5904.9\n",
      "4 5314.41\n",
      "3 4782.969\n",
      "2 4304.6721\n",
      "1 3874.20489\n"
     ]
    }
   ],
   "source": [
    "curr_poplution = 10000\n",
    "\n",
    "for i in range(10,0,-1):\n",
    "    print(i,curr_poplution)\n",
    "    curr_poplution = curr_poplution - 0.1*curr_poplution"
   ]
  },
  {
   "cell_type": "code",
   "execution_count": null,
   "id": "2a1d77cd",
   "metadata": {},
   "outputs": [],
   "source": []
  },
  {
   "cell_type": "code",
   "execution_count": null,
   "id": "b997b472",
   "metadata": {},
   "outputs": [],
   "source": []
  },
  {
   "cell_type": "code",
   "execution_count": null,
   "id": "b907c063",
   "metadata": {},
   "outputs": [],
   "source": []
  },
  {
   "cell_type": "code",
   "execution_count": null,
   "id": "20891bd2",
   "metadata": {},
   "outputs": [],
   "source": []
  },
  {
   "cell_type": "code",
   "execution_count": null,
   "id": "56b46132",
   "metadata": {},
   "outputs": [],
   "source": []
  }
 ],
 "metadata": {
  "kernelspec": {
   "display_name": "Python 3 (ipykernel)",
   "language": "python",
   "name": "python3"
  },
  "language_info": {
   "codemirror_mode": {
    "name": "ipython",
    "version": 3
   },
   "file_extension": ".py",
   "mimetype": "text/x-python",
   "name": "python",
   "nbconvert_exporter": "python",
   "pygments_lexer": "ipython3",
   "version": "3.11.7"
  }
 },
 "nbformat": 4,
 "nbformat_minor": 5
}
