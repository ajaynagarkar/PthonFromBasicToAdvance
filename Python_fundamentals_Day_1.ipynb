{
 "cells": [
  {
   "cell_type": "markdown",
   "id": "74444032",
   "metadata": {},
   "source": [
    "# Python  Output"
   ]
  },
  {
   "cell_type": "code",
   "execution_count": 1,
   "id": "c83b932c",
   "metadata": {},
   "outputs": [
    {
     "name": "stdout",
     "output_type": "stream",
     "text": [
      "Jai shrii ram\n"
     ]
    }
   ],
   "source": [
    "#python is case sensentative language\n",
    "print(\"Jai shrii ram\")"
   ]
  },
  {
   "cell_type": "code",
   "execution_count": 4,
   "id": "8bd374a5",
   "metadata": {},
   "outputs": [
    {
     "name": "stdout",
     "output_type": "stream",
     "text": [
      "7\n"
     ]
    }
   ],
   "source": [
    "print(7)"
   ]
  },
  {
   "cell_type": "code",
   "execution_count": 5,
   "id": "01f34faa",
   "metadata": {},
   "outputs": [
    {
     "name": "stdout",
     "output_type": "stream",
     "text": [
      "True\n"
     ]
    }
   ],
   "source": [
    "print(True)"
   ]
  },
  {
   "cell_type": "code",
   "execution_count": 6,
   "id": "b8f6e5ea",
   "metadata": {},
   "outputs": [
    {
     "name": "stdout",
     "output_type": "stream",
     "text": [
      "hello 1 4.5 True\n"
     ]
    }
   ],
   "source": [
    "print(\"hello\",1,4.5,True)  # we can print multiple thing "
   ]
  },
  {
   "cell_type": "code",
   "execution_count": 7,
   "id": "3cae7e2d",
   "metadata": {},
   "outputs": [
    {
     "name": "stdout",
     "output_type": "stream",
     "text": [
      "hello/1/4.5/True\n"
     ]
    }
   ],
   "source": [
    "print(\"hello\",1,4.5,True, sep='/')# agrument for remove the space for the print"
   ]
  },
  {
   "cell_type": "code",
   "execution_count": 8,
   "id": "1f95d146",
   "metadata": {},
   "outputs": [
    {
     "name": "stdout",
     "output_type": "stream",
     "text": [
      "Hello\n",
      "world\n"
     ]
    }
   ],
   "source": [
    "print('Hello')\n",
    "print('world')"
   ]
  },
  {
   "cell_type": "code",
   "execution_count": 9,
   "id": "3c2ebd54",
   "metadata": {},
   "outputs": [
    {
     "name": "stdout",
     "output_type": "stream",
     "text": [
      "hello-world\n"
     ]
    }
   ],
   "source": [
    "print('hello', end='-')\n",
    "print('world')"
   ]
  },
  {
   "cell_type": "markdown",
   "id": "460be643",
   "metadata": {},
   "source": [
    "# Data types\n"
   ]
  },
  {
   "cell_type": "code",
   "execution_count": 12,
   "id": "41708c27",
   "metadata": {},
   "outputs": [
    {
     "name": "stdout",
     "output_type": "stream",
     "text": [
      "8\n",
      "1e+308\n"
     ]
    }
   ],
   "source": [
    "# Integer\n",
    "print(8)\n",
    "print(1e308)"
   ]
  },
  {
   "cell_type": "code",
   "execution_count": 13,
   "id": "7e5a6ab9",
   "metadata": {},
   "outputs": [
    {
     "name": "stdout",
     "output_type": "stream",
     "text": [
      "8.55\n",
      "inf\n"
     ]
    }
   ],
   "source": [
    "#Decimal\n",
    "print(8.55)\n",
    "print(1.7e309)"
   ]
  },
  {
   "cell_type": "code",
   "execution_count": 14,
   "id": "429ebf6e",
   "metadata": {},
   "outputs": [
    {
     "name": "stdout",
     "output_type": "stream",
     "text": [
      "True\n",
      "False\n"
     ]
    }
   ],
   "source": [
    "#boolean\n",
    "print(True)\n",
    "print(False)"
   ]
  },
  {
   "cell_type": "code",
   "execution_count": 15,
   "id": "94827b29",
   "metadata": {},
   "outputs": [
    {
     "name": "stdout",
     "output_type": "stream",
     "text": [
      "Hello world\n"
     ]
    }
   ],
   "source": [
    "#text/string\n",
    "print('Hello world')"
   ]
  },
  {
   "cell_type": "code",
   "execution_count": 16,
   "id": "4054feaf",
   "metadata": {},
   "outputs": [
    {
     "name": "stdout",
     "output_type": "stream",
     "text": [
      "(5+6j)\n"
     ]
    }
   ],
   "source": [
    "#complex\n",
    "print(5+6j)"
   ]
  },
  {
   "cell_type": "code",
   "execution_count": 17,
   "id": "0e083274",
   "metadata": {},
   "outputs": [
    {
     "name": "stdout",
     "output_type": "stream",
     "text": [
      "[1, 2, 3, 4]\n"
     ]
    }
   ],
   "source": [
    "#list -> c-> Array\n",
    "print([1,2,3,4])"
   ]
  },
  {
   "cell_type": "code",
   "execution_count": 18,
   "id": "904e909c",
   "metadata": {},
   "outputs": [
    {
     "name": "stdout",
     "output_type": "stream",
     "text": [
      "(1, 2, 3, 4, 5, 6)\n"
     ]
    }
   ],
   "source": [
    "#tuple\n",
    "print((1,2,3,4,5,6))"
   ]
  },
  {
   "cell_type": "code",
   "execution_count": 24,
   "id": "5187f4e0",
   "metadata": {},
   "outputs": [
    {
     "name": "stdout",
     "output_type": "stream",
     "text": [
      "<class 'set'>\n"
     ]
    }
   ],
   "source": [
    "#set\n",
    "a=print(type({1,2,3,4}))"
   ]
  },
  {
   "cell_type": "code",
   "execution_count": 21,
   "id": "ee8f7c31",
   "metadata": {},
   "outputs": [
    {
     "name": "stdout",
     "output_type": "stream",
     "text": [
      "{'name': 'Nitish', 'gender': 'Male', 'weight': 70}\n"
     ]
    }
   ],
   "source": [
    "#Dictonary\n",
    "print({'name':'Nitish','gender':'Male','weight':70})"
   ]
  },
  {
   "cell_type": "markdown",
   "id": "2e2ce555",
   "metadata": {},
   "source": [
    "# variables\n"
   ]
  },
  {
   "cell_type": "code",
   "execution_count": 25,
   "id": "2f9cccc0",
   "metadata": {},
   "outputs": [
    {
     "name": "stdout",
     "output_type": "stream",
     "text": [
      "nitish\n"
     ]
    }
   ],
   "source": [
    "name = 'nitish'\n",
    "print(name)"
   ]
  },
  {
   "cell_type": "code",
   "execution_count": 27,
   "id": "26041704",
   "metadata": {},
   "outputs": [
    {
     "name": "stdout",
     "output_type": "stream",
     "text": [
      "11\n"
     ]
    }
   ],
   "source": [
    "a= 5 \n",
    "b=6\n",
    "print(a+b)"
   ]
  },
  {
   "cell_type": "code",
   "execution_count": 28,
   "id": "e87b145c",
   "metadata": {},
   "outputs": [
    {
     "data": {
      "text/plain": [
       "'we have to decalre type of variable'"
      ]
     },
     "execution_count": 28,
     "metadata": {},
     "output_type": "execute_result"
    }
   ],
   "source": [
    "# dynamic typing\n",
    "'''do not tell the type of variable'''\n",
    "#static typing\n",
    "'''we have to decalre type of variable'''"
   ]
  },
  {
   "cell_type": "code",
   "execution_count": 30,
   "id": "4059ca16",
   "metadata": {},
   "outputs": [
    {
     "name": "stdout",
     "output_type": "stream",
     "text": [
      "5\n",
      "nitish\n"
     ]
    }
   ],
   "source": [
    "# dynamic binding\n",
    "a = 5\n",
    "print(a)\n",
    "a= 'nitish'\n",
    "print(a)\n",
    "# variable can hold any data type\n",
    "#static binding\n"
   ]
  },
  {
   "cell_type": "code",
   "execution_count": 31,
   "id": "787db666",
   "metadata": {},
   "outputs": [
    {
     "name": "stdout",
     "output_type": "stream",
     "text": [
      "1 2 3\n"
     ]
    }
   ],
   "source": [
    "a,b,c =1,2,3\n",
    "print(a,b,c)"
   ]
  },
  {
   "cell_type": "code",
   "execution_count": 32,
   "id": "99d14d58",
   "metadata": {},
   "outputs": [
    {
     "name": "stdout",
     "output_type": "stream",
     "text": [
      "5 5 5\n"
     ]
    }
   ],
   "source": [
    "a=b=c= 5\n",
    "print(a,b,c)\n"
   ]
  },
  {
   "cell_type": "markdown",
   "id": "790d4e21",
   "metadata": {},
   "source": [
    "# comments"
   ]
  },
  {
   "cell_type": "code",
   "execution_count": 33,
   "id": "5e3d6b4d",
   "metadata": {},
   "outputs": [
    {
     "name": "stdout",
     "output_type": "stream",
     "text": [
      "10\n"
     ]
    }
   ],
   "source": [
    "# this is a comment\n",
    "a=4\n",
    "b=6\n",
    "# second comment\n",
    "print(a+b)"
   ]
  },
  {
   "cell_type": "markdown",
   "id": "8561e0d1",
   "metadata": {},
   "source": [
    "# keywords and identifiers"
   ]
  },
  {
   "cell_type": "code",
   "execution_count": 34,
   "id": "bd232baf",
   "metadata": {},
   "outputs": [
    {
     "data": {
      "text/plain": [
       "' 1) do not start with numbers\\n    2)special symblos are not allowed\\n    3) identifiers can not be keywords'"
      ]
     },
     "execution_count": 34,
     "metadata": {},
     "output_type": "execute_result"
    }
   ],
   "source": [
    "# keywords are fixed word which cannot be used as name in python\n",
    "# name created by us is identifiesrs\n",
    "''' 1) do not start with numbers\n",
    "    2)special symblos are not allowed\n",
    "    3) identifiers can not be keywords'''"
   ]
  },
  {
   "cell_type": "markdown",
   "id": "f419ee4f",
   "metadata": {},
   "source": [
    "# User input"
   ]
  },
  {
   "cell_type": "code",
   "execution_count": 36,
   "id": "93d57f66",
   "metadata": {},
   "outputs": [
    {
     "name": "stdout",
     "output_type": "stream",
     "text": [
      " Please tell your nameajay\n"
     ]
    },
    {
     "data": {
      "text/plain": [
       "'ajay'"
      ]
     },
     "execution_count": 36,
     "metadata": {},
     "output_type": "execute_result"
    }
   ],
   "source": [
    "input(\" Please tell your name\")"
   ]
  },
  {
   "cell_type": "code",
   "execution_count": 38,
   "id": "33535a72",
   "metadata": {},
   "outputs": [
    {
     "name": "stdout",
     "output_type": "stream",
     "text": [
      "Enter the EmailKOLHEPUNIT25@GMAIL.COM\n"
     ]
    },
    {
     "data": {
      "text/plain": [
       "'KOLHEPUNIT25@GMAIL.COM'"
      ]
     },
     "execution_count": 38,
     "metadata": {},
     "output_type": "execute_result"
    }
   ],
   "source": [
    "input('Enter the Email')"
   ]
  },
  {
   "cell_type": "code",
   "execution_count": 40,
   "id": "bca9cd64",
   "metadata": {},
   "outputs": [
    {
     "name": "stdout",
     "output_type": "stream",
     "text": [
      "10.6\n",
      "<class 'int'> <class 'float'>\n"
     ]
    }
   ],
   "source": [
    "#Inmplicit vs Explicit\n",
    "print(5+5.6)\n",
    "print(type(5),type(5.6))"
   ]
  },
  {
   "cell_type": "code",
   "execution_count": 43,
   "id": "5f3d47dc",
   "metadata": {},
   "outputs": [
    {
     "data": {
      "text/plain": [
       "4.0"
      ]
     },
     "execution_count": 43,
     "metadata": {},
     "output_type": "execute_result"
    }
   ],
   "source": [
    "#explict\n",
    "int(4+5.6)\n",
    "\n",
    "str(5)\n",
    "\n",
    "float()"
   ]
  },
  {
   "cell_type": "code",
   "execution_count": 60,
   "id": "cfa6d084",
   "metadata": {},
   "outputs": [
    {
     "name": "stdout",
     "output_type": "stream",
     "text": [
      "enter first number8\n",
      "enter second number7\n",
      "<class 'int'> <class 'int'>\n",
      "56\n",
      "<class 'int'>\n"
     ]
    }
   ],
   "source": [
    "# take input form users and store them in a variable\n",
    "fnum = int(input('enter first number')) # python automatically store the value in string\n",
    "snum = int(input('enter second number'))\n",
    "#type of fnum and snum\n",
    "print(type(fnum), type(snum))\n",
    "# add two variables\n",
    "result = fnum * snum\n",
    "#print the result\n",
    "print(result)\n",
    "print(type(result))"
   ]
  },
  {
   "cell_type": "markdown",
   "id": "4452b8aa",
   "metadata": {},
   "source": [
    "# Literals\n",
    "\n",
    "\n"
   ]
  },
  {
   "cell_type": "code",
   "execution_count": 61,
   "id": "ef073a72",
   "metadata": {},
   "outputs": [
    {
     "name": "stdout",
     "output_type": "stream",
     "text": [
      "10 100 200 300\n",
      "10.5 150.0 0.0015\n",
      "3.14j 3.14 0.0\n"
     ]
    }
   ],
   "source": [
    "a= 0b1010 # binary liertal\n",
    "b= 100 # decimal literal\n",
    "c= 0o310 # Ocatal literal\n",
    "d = 0x12c # Hecadecimal literal\n",
    "\n",
    "# float Literal\n",
    "float_1 = 10.5\n",
    "float_2 = 1.5e2 # 1.5 * 10^2\n",
    "float_3 = 1.5e-3 # 1.5 * 10^3\n",
    "\n",
    "# complex literal\n",
    "x= 3.14j\n",
    "\n",
    "print(a,b,c,d)\n",
    "print(float_1, float_2,float_3)\n",
    "print(x, x.imag, x.real)"
   ]
  },
  {
   "cell_type": "code",
   "execution_count": 55,
   "id": "5e8fc3fe",
   "metadata": {},
   "outputs": [
    {
     "name": "stdout",
     "output_type": "stream",
     "text": [
      "this klis python\n",
      " this is python\n",
      "C\n",
      "This is multiline stirng with more than one line code.\n",
      "ὠ0𐽠6𐀟923\n",
      "raw \\ntring\n"
     ]
    }
   ],
   "source": [
    "sting= 'this klis python'\n",
    "stings= \" this is python\"\n",
    "char = 'C'\n",
    "multiline_str = '''This is multiline stirng with more than one line code.'''\n",
    "unicode = u\"\\U00001f600\\U00010F606\\U0001001F923\"\n",
    "raw_str = r\"raw \\ntring\"\n",
    "\n",
    "\n",
    "print(sting)\n",
    "print(stings)\n",
    "print(char)\n",
    "print(multiline_str)\n",
    "print(unicode)\n",
    "print(raw_str)\n",
    "\n"
   ]
  },
  {
   "cell_type": "code",
   "execution_count": 63,
   "id": "db0b038b",
   "metadata": {},
   "outputs": [
    {
     "name": "stdout",
     "output_type": "stream",
     "text": [
      "5 10\n"
     ]
    }
   ],
   "source": [
    "a= True + 4\n",
    "b= False + 10\n",
    "\n",
    "print(a,b)"
   ]
  },
  {
   "cell_type": "code",
   "execution_count": 64,
   "id": "f1e20088",
   "metadata": {},
   "outputs": [
    {
     "name": "stdout",
     "output_type": "stream",
     "text": [
      "None\n"
     ]
    }
   ],
   "source": [
    "a= None\n",
    "print(a)"
   ]
  },
  {
   "cell_type": "code",
   "execution_count": null,
   "id": "762fc405",
   "metadata": {},
   "outputs": [],
   "source": []
  },
  {
   "cell_type": "code",
   "execution_count": null,
   "id": "e3cb3ba8",
   "metadata": {},
   "outputs": [],
   "source": [
    "\n"
   ]
  },
  {
   "cell_type": "code",
   "execution_count": null,
   "id": "a029decb",
   "metadata": {},
   "outputs": [],
   "source": []
  },
  {
   "cell_type": "code",
   "execution_count": null,
   "id": "8236affa",
   "metadata": {},
   "outputs": [],
   "source": []
  }
 ],
 "metadata": {
  "kernelspec": {
   "display_name": "Python 3 (ipykernel)",
   "language": "python",
   "name": "python3"
  },
  "language_info": {
   "codemirror_mode": {
    "name": "ipython",
    "version": 3
   },
   "file_extension": ".py",
   "mimetype": "text/x-python",
   "name": "python",
   "nbconvert_exporter": "python",
   "pygments_lexer": "ipython3",
   "version": "3.11.7"
  }
 },
 "nbformat": 4,
 "nbformat_minor": 5
}
