{
 "cells": [
  {
   "cell_type": "markdown",
   "id": "bc904776",
   "metadata": {},
   "source": [
    "# Tuples"
   ]
  },
  {
   "cell_type": "markdown",
   "id": "82fdf442",
   "metadata": {},
   "source": [
    "tuple are similar to list\n",
    "tuple onces creted cannot be changed, thus it its is immutable \n",
    "\n",
    "charactratics:\n",
    "1) ordered matters\n",
    "2) unchanged\n",
    "3) allows duplicates"
   ]
  },
  {
   "cell_type": "code",
   "execution_count": 4,
   "id": "358fe419",
   "metadata": {},
   "outputs": [
    {
     "ename": "NameError",
     "evalue": "name 'w' is not defined",
     "output_type": "error",
     "traceback": [
      "\u001b[1;31m---------------------------------------------------------------------------\u001b[0m",
      "\u001b[1;31mNameError\u001b[0m                                 Traceback (most recent call last)",
      "Cell \u001b[1;32mIn[4], line 2\u001b[0m\n\u001b[0;32m      1\u001b[0m \u001b[38;5;66;03m#create a tuple\u001b[39;00m\n\u001b[1;32m----> 2\u001b[0m a \u001b[38;5;241m=\u001b[39m (w,b,c,d)\n\u001b[0;32m      3\u001b[0m \u001b[38;5;28mprint\u001b[39m(a)\n",
      "\u001b[1;31mNameError\u001b[0m: name 'w' is not defined"
     ]
    }
   ],
   "source": [
    "#create a tuple\n",
    "a = (w,b,c,d)\n",
    "print(a)"
   ]
  },
  {
   "cell_type": "code",
   "execution_count": 2,
   "id": "85a397ec",
   "metadata": {},
   "outputs": [
    {
     "name": "stdout",
     "output_type": "stream",
     "text": [
      "()\n"
     ]
    }
   ],
   "source": [
    "t1 = ()\n",
    "print(t1)"
   ]
  },
  {
   "cell_type": "code",
   "execution_count": 8,
   "id": "0ceb6274",
   "metadata": {},
   "outputs": [
    {
     "name": "stdout",
     "output_type": "stream",
     "text": [
      "hello\n",
      "<class 'str'>\n"
     ]
    }
   ],
   "source": [
    "t2 = ('hello')\n",
    "print(t2)\n",
    "print(type(t2))# single item tuple is string"
   ]
  },
  {
   "cell_type": "code",
   "execution_count": 13,
   "id": "978d11f0",
   "metadata": {},
   "outputs": [
    {
     "name": "stdout",
     "output_type": "stream",
     "text": [
      "(1, 2, 3, 4)\n",
      "(1, 2.5, True, [1, 2, 3])\n",
      "(1, 2, 3, (1, 3))\n",
      "('h', 'e', 'l', 'l', 'o')\n"
     ]
    }
   ],
   "source": [
    "t3 =(1,2,3,4)\n",
    "print(t3)\n",
    "\n",
    "#heterogenous tuple\n",
    "t4 = (1,2.5,True,[1,2,3])\n",
    "print(t4)\n",
    "\n",
    "\n",
    "# tuple in tuple\n",
    "\n",
    "t5 = (1,2,3,(1,3))\n",
    "print(t5)\n",
    "\n",
    "t6 =tuple('hello')\n",
    "print(t6)"
   ]
  },
  {
   "cell_type": "code",
   "execution_count": 19,
   "id": "8cdf96ff",
   "metadata": {},
   "outputs": [
    {
     "name": "stdout",
     "output_type": "stream",
     "text": [
      "1\n",
      "(1, 2, 3)\n"
     ]
    }
   ],
   "source": [
    "#accessing items\n",
    "\n",
    "t3\n",
    "print(t3[0])\n",
    "print(t3[-4:-1])"
   ]
  },
  {
   "cell_type": "code",
   "execution_count": 21,
   "id": "b04dffc2",
   "metadata": {},
   "outputs": [
    {
     "name": "stdout",
     "output_type": "stream",
     "text": [
      "(2, 3)\n",
      "(4, 3, 2, 1)\n"
     ]
    }
   ],
   "source": [
    "print(t3[1:3])\n",
    "print(t3[::-1])"
   ]
  },
  {
   "cell_type": "code",
   "execution_count": 22,
   "id": "ce4e0c40",
   "metadata": {},
   "outputs": [
    {
     "data": {
      "text/plain": [
       "(1, 2, 3, (1, 3))"
      ]
     },
     "execution_count": 22,
     "metadata": {},
     "output_type": "execute_result"
    }
   ],
   "source": [
    "t5 # 2d tuple"
   ]
  },
  {
   "cell_type": "code",
   "execution_count": 24,
   "id": "15b53a49",
   "metadata": {},
   "outputs": [
    {
     "data": {
      "text/plain": [
       "1"
      ]
     },
     "execution_count": 24,
     "metadata": {},
     "output_type": "execute_result"
    }
   ],
   "source": [
    "t5[-1][0]"
   ]
  },
  {
   "cell_type": "code",
   "execution_count": 26,
   "id": "797908f7",
   "metadata": {},
   "outputs": [
    {
     "name": "stdout",
     "output_type": "stream",
     "text": [
      "(1, 2, 3, 4)\n"
     ]
    },
    {
     "ename": "TypeError",
     "evalue": "'tuple' object does not support item assignment",
     "output_type": "error",
     "traceback": [
      "\u001b[1;31m---------------------------------------------------------------------------\u001b[0m",
      "\u001b[1;31mTypeError\u001b[0m                                 Traceback (most recent call last)",
      "Cell \u001b[1;32mIn[26], line 3\u001b[0m\n\u001b[0;32m      1\u001b[0m \u001b[38;5;66;03m# edit items\u001b[39;00m\n\u001b[0;32m      2\u001b[0m \u001b[38;5;28mprint\u001b[39m(t3)\n\u001b[1;32m----> 3\u001b[0m t3[\u001b[38;5;241m0\u001b[39m]\u001b[38;5;241m=\u001b[39m\u001b[38;5;241m100\u001b[39m\n",
      "\u001b[1;31mTypeError\u001b[0m: 'tuple' object does not support item assignment"
     ]
    }
   ],
   "source": [
    "# edit items\n",
    "print(t3)\n",
    "t3[0]=100 # strings and tuple are not edited"
   ]
  },
  {
   "cell_type": "code",
   "execution_count": null,
   "id": "3d1483fb",
   "metadata": {},
   "outputs": [],
   "source": [
    "#adding items\n",
    "\n",
    "# dose not allowed editing and add or subrtact"
   ]
  },
  {
   "cell_type": "code",
   "execution_count": 29,
   "id": "c797bcf0",
   "metadata": {},
   "outputs": [
    {
     "ename": "NameError",
     "evalue": "name 't3' is not defined",
     "output_type": "error",
     "traceback": [
      "\u001b[1;31m---------------------------------------------------------------------------\u001b[0m",
      "\u001b[1;31mNameError\u001b[0m                                 Traceback (most recent call last)",
      "Cell \u001b[1;32mIn[29], line 2\u001b[0m\n\u001b[0;32m      1\u001b[0m \u001b[38;5;66;03m# deletion \u001b[39;00m\n\u001b[1;32m----> 2\u001b[0m \u001b[38;5;28mprint\u001b[39m(t3)\n\u001b[0;32m      3\u001b[0m \u001b[38;5;28;01mdel\u001b[39;00m t3\n\u001b[0;32m      4\u001b[0m \u001b[38;5;28mprint\u001b[39m(t3)\n",
      "\u001b[1;31mNameError\u001b[0m: name 't3' is not defined"
     ]
    }
   ],
   "source": [
    "# deletion \n",
    "print(t3)\n",
    "del t3 #only delet whole tuple not any portion or something else in it\n",
    "print(t3)"
   ]
  },
  {
   "cell_type": "code",
   "execution_count": 31,
   "id": "48de8ef3",
   "metadata": {},
   "outputs": [
    {
     "name": "stdout",
     "output_type": "stream",
     "text": [
      "(1, 2, 3, (1, 3))\n"
     ]
    },
    {
     "ename": "TypeError",
     "evalue": "'tuple' object doesn't support item deletion",
     "output_type": "error",
     "traceback": [
      "\u001b[1;31m---------------------------------------------------------------------------\u001b[0m",
      "\u001b[1;31mTypeError\u001b[0m                                 Traceback (most recent call last)",
      "Cell \u001b[1;32mIn[31], line 2\u001b[0m\n\u001b[0;32m      1\u001b[0m \u001b[38;5;28mprint\u001b[39m(t5)\n\u001b[1;32m----> 2\u001b[0m \u001b[38;5;28;01mdel\u001b[39;00m t5[\u001b[38;5;241m-\u001b[39m\u001b[38;5;241m1\u001b[39m]\n",
      "\u001b[1;31mTypeError\u001b[0m: 'tuple' object doesn't support item deletion"
     ]
    }
   ],
   "source": [
    "print(t5)\n",
    "del t5[-1]"
   ]
  },
  {
   "cell_type": "code",
   "execution_count": 38,
   "id": "0406be5f",
   "metadata": {},
   "outputs": [
    {
     "name": "stdout",
     "output_type": "stream",
     "text": [
      "(5, 4, 3)\n"
     ]
    }
   ],
   "source": [
    "t =(1,2,3,4,5)\n",
    "print(t[-1:-4:-1])"
   ]
  },
  {
   "cell_type": "code",
   "execution_count": 39,
   "id": "b2f33e6d",
   "metadata": {},
   "outputs": [
    {
     "data": {
      "text/plain": [
       "(1, 2, 3, 4, 5, 5, 4, 9, 8, 7)"
      ]
     },
     "execution_count": 39,
     "metadata": {},
     "output_type": "execute_result"
    }
   ],
   "source": [
    "# operation and function on tuple\n",
    "\n",
    "t1 = (1,2,3,4,5)\n",
    "t2 =(5,4,9,8,7)\n",
    "t1+t2"
   ]
  },
  {
   "cell_type": "code",
   "execution_count": 40,
   "id": "8c04b8c1",
   "metadata": {},
   "outputs": [
    {
     "name": "stdout",
     "output_type": "stream",
     "text": [
      "(1, 2, 3, 4, 5, 1, 2, 3, 4, 5, 1, 2, 3, 4, 5)\n"
     ]
    }
   ],
   "source": [
    "print(t1 * 3)"
   ]
  },
  {
   "cell_type": "code",
   "execution_count": 41,
   "id": "f5cdffca",
   "metadata": {},
   "outputs": [
    {
     "data": {
      "text/plain": [
       "True"
      ]
     },
     "execution_count": 41,
     "metadata": {},
     "output_type": "execute_result"
    }
   ],
   "source": [
    "1 in t1"
   ]
  },
  {
   "cell_type": "code",
   "execution_count": 42,
   "id": "aa4a3084",
   "metadata": {},
   "outputs": [
    {
     "data": {
      "text/plain": [
       "False"
      ]
     },
     "execution_count": 42,
     "metadata": {},
     "output_type": "execute_result"
    }
   ],
   "source": [
    "0 in t1"
   ]
  },
  {
   "cell_type": "code",
   "execution_count": 44,
   "id": "e74aa940",
   "metadata": {},
   "outputs": [
    {
     "name": "stdout",
     "output_type": "stream",
     "text": [
      "1\n",
      "2\n",
      "3\n",
      "4\n",
      "5\n"
     ]
    }
   ],
   "source": [
    "for i in t1:\n",
    "    print(i)"
   ]
  },
  {
   "cell_type": "code",
   "execution_count": 45,
   "id": "ae54e06e",
   "metadata": {},
   "outputs": [
    {
     "data": {
      "text/plain": [
       "5"
      ]
     },
     "execution_count": 45,
     "metadata": {},
     "output_type": "execute_result"
    }
   ],
   "source": [
    "# functions in tuple\n",
    "\n",
    "len(t1)\n"
   ]
  },
  {
   "cell_type": "code",
   "execution_count": 51,
   "id": "d0a2a860",
   "metadata": {},
   "outputs": [
    {
     "name": "stdout",
     "output_type": "stream",
     "text": [
      "(1, 2, 3, 4, 5)\n",
      "5\n"
     ]
    },
    {
     "data": {
      "text/plain": [
       "[5, 4, 3, 2, 1]"
      ]
     },
     "execution_count": 51,
     "metadata": {},
     "output_type": "execute_result"
    }
   ],
   "source": [
    "# sum\n",
    "sum(t1)\n",
    "\n",
    "# min\n",
    "print(t1)\n",
    "#max\n",
    "print(max(t1))\n",
    "\n",
    "# sorted\n",
    "\n",
    "sorted(t1,reverse=True)"
   ]
  },
  {
   "cell_type": "code",
   "execution_count": 55,
   "id": "1a8e273d",
   "metadata": {},
   "outputs": [
    {
     "name": "stdout",
     "output_type": "stream",
     "text": [
      "4\n"
     ]
    },
    {
     "data": {
      "text/plain": [
       "3"
      ]
     },
     "execution_count": 55,
     "metadata": {},
     "output_type": "execute_result"
    }
   ],
   "source": [
    "# count\n",
    "t = (1,2,3,4,5,5555,55,5,5,5)\n",
    "print(t.count(5))\n",
    "\n",
    "\n",
    "# index\n",
    "t.index(4)"
   ]
  },
  {
   "cell_type": "markdown",
   "id": "5e5088f1",
   "metadata": {},
   "source": [
    " lists and tuple\n",
    "\n",
    "syntax\n",
    "mutablity\n",
    "speed tuples are faster than list\n",
    "memory\n",
    "built in function\n",
    "error prone\n",
    "usability"
   ]
  },
  {
   "cell_type": "code",
   "execution_count": 57,
   "id": "53cb2e32",
   "metadata": {},
   "outputs": [
    {
     "name": "stdout",
     "output_type": "stream",
     "text": [
      "list time 0.09375333786010742\n",
      "tuple time 0.0949251651763916\n"
     ]
    }
   ],
   "source": [
    "import time\n",
    "\n",
    "\n",
    "L = list(range(1000000))\n",
    "S= tuple(range(1000000))\n",
    "\n",
    "start = time.time()\n",
    "for i in L:\n",
    "        i*5\n",
    "print(\"list time\",time.time()-start)\n",
    "\n",
    "\n",
    "start = time.time()\n",
    "for i in S:\n",
    "    i*5\n",
    "print('tuple time',time.time()-start)"
   ]
  },
  {
   "cell_type": "code",
   "execution_count": 58,
   "id": "09d3dbbc",
   "metadata": {},
   "outputs": [
    {
     "name": "stdout",
     "output_type": "stream",
     "text": [
      "list size 8056\n",
      "tuple size 8040\n"
     ]
    }
   ],
   "source": [
    "import sys\n",
    "L= list(range(1000))\n",
    "T = tuple(range(1000))\n",
    "print('list size', sys.getsizeof(L))\n",
    "print('tuple size',sys.getsizeof(T))"
   ]
  },
  {
   "cell_type": "code",
   "execution_count": 61,
   "id": "f8c4db08",
   "metadata": {},
   "outputs": [
    {
     "name": "stdout",
     "output_type": "stream",
     "text": [
      "[1, 2, 3, 4, 5, 4]\n",
      "[1, 2, 3, 4, 5, 4]\n"
     ]
    }
   ],
   "source": [
    "a=[1,2,3,4,5]\n",
    "b=a\n",
    "\n",
    "a.append(4)\n",
    "print(a)\n",
    "print(b) # lists are dangourous because their will changes in b but i am not giving any order to it"
   ]
  },
  {
   "cell_type": "code",
   "execution_count": 64,
   "id": "1be2380a",
   "metadata": {},
   "outputs": [
    {
     "name": "stdout",
     "output_type": "stream",
     "text": [
      "(1, 23, 4, 6, 4, 8, 4)\n",
      "(1, 23, 4, 6, 4, 8)\n"
     ]
    }
   ],
   "source": [
    "t=(1,23,4,6,4,8)\n",
    "c=t\n",
    "t = t + (4,)\n",
    "print(t)\n",
    "print(c)"
   ]
  },
  {
   "cell_type": "code",
   "execution_count": null,
   "id": "4a6e14e8",
   "metadata": {},
   "outputs": [],
   "source": [
    "#usability\n",
    "\n"
   ]
  },
  {
   "cell_type": "code",
   "execution_count": 66,
   "id": "6dba0d0d",
   "metadata": {},
   "outputs": [
    {
     "name": "stdout",
     "output_type": "stream",
     "text": [
      "1 2 3\n"
     ]
    }
   ],
   "source": [
    "# tuple unpacking\n",
    "\n",
    "a,b,c = (1,2,3)\n",
    "\n",
    "print(a,b,c)"
   ]
  },
  {
   "cell_type": "code",
   "execution_count": 68,
   "id": "c75b9c0b",
   "metadata": {},
   "outputs": [
    {
     "ename": "ValueError",
     "evalue": "too many values to unpack (expected 2)",
     "output_type": "error",
     "traceback": [
      "\u001b[1;31m---------------------------------------------------------------------------\u001b[0m",
      "\u001b[1;31mValueError\u001b[0m                                Traceback (most recent call last)",
      "Cell \u001b[1;32mIn[68], line 1\u001b[0m\n\u001b[1;32m----> 1\u001b[0m a,b \u001b[38;5;241m=\u001b[39m (\u001b[38;5;241m1\u001b[39m,\u001b[38;5;241m2\u001b[39m,\u001b[38;5;241m3\u001b[39m)\n\u001b[0;32m      2\u001b[0m \u001b[38;5;28mprint\u001b[39m(a,b)\n",
      "\u001b[1;31mValueError\u001b[0m: too many values to unpack (expected 2)"
     ]
    }
   ],
   "source": [
    "a,b = (1,2,3)\n",
    "print(a,b)"
   ]
  },
  {
   "cell_type": "code",
   "execution_count": 69,
   "id": "c233cf29",
   "metadata": {},
   "outputs": [
    {
     "name": "stdout",
     "output_type": "stream",
     "text": [
      "2 1\n"
     ]
    }
   ],
   "source": [
    "a = 1\n",
    "b= 2\n",
    "a,b = b,a\n",
    "print(a,b)"
   ]
  },
  {
   "cell_type": "code",
   "execution_count": 71,
   "id": "09a6a4af",
   "metadata": {},
   "outputs": [
    {
     "name": "stdout",
     "output_type": "stream",
     "text": [
      "1 2\n",
      "[3, 4]\n"
     ]
    }
   ],
   "source": [
    "a,b,*others = (1,2,3,4)\n",
    "print(a,b)\n",
    "print(others)# store in list\n"
   ]
  },
  {
   "cell_type": "code",
   "execution_count": 74,
   "id": "1b53c4f5",
   "metadata": {},
   "outputs": [
    {
     "name": "stdout",
     "output_type": "stream",
     "text": [
      "<zip object at 0x0000027731FEECC0>\n"
     ]
    },
    {
     "data": {
      "text/plain": [
       "((1, 6), (2, 7), (3, 8), (4, 9), (5, 0))"
      ]
     },
     "execution_count": 74,
     "metadata": {},
     "output_type": "execute_result"
    }
   ],
   "source": [
    "# zipping tuole\n",
    "a = (1,2,3,4,5)\n",
    "b =(6,7,8,9,0)\n",
    "\n",
    "print(zip(a,b))\n",
    "tuple(zip(a,b))"
   ]
  },
  {
   "cell_type": "markdown",
   "id": "8ba6cbce",
   "metadata": {},
   "source": [
    "SETS\n",
    "\n",
    "\n",
    "set is unordered collectin of items. every set element is unique (no duplicates) and must be immutablr (cannot be changed).\n",
    "union , intersection, symmertric differnce\n",
    "\n",
    "Charactristics\n",
    "!) unordered\n",
    "@) mutable\n",
    "$) set cannot have dulipcate\n",
    "%) can't contain mutable data types #set dose not contains set iteself\n"
   ]
  },
  {
   "cell_type": "code",
   "execution_count": 76,
   "id": "2ede86d7",
   "metadata": {},
   "outputs": [
    {
     "name": "stdout",
     "output_type": "stream",
     "text": [
      "{}\n",
      "<class 'dict'>\n"
     ]
    }
   ],
   "source": [
    "# empty\n",
    "s ={}\n",
    "print(s)\n",
    "print(type(s)) #"
   ]
  },
  {
   "cell_type": "code",
   "execution_count": 78,
   "id": "706f0a78",
   "metadata": {},
   "outputs": [
    {
     "name": "stdout",
     "output_type": "stream",
     "text": [
      "set()\n",
      "<class 'set'>\n"
     ]
    }
   ],
   "source": [
    "s =  set()\n",
    "print(s)\n",
    "print(type(s))"
   ]
  },
  {
   "cell_type": "code",
   "execution_count": 80,
   "id": "6cda999e",
   "metadata": {},
   "outputs": [
    {
     "name": "stdout",
     "output_type": "stream",
     "text": [
      "{1, 2, 3, 4}\n"
     ]
    },
    {
     "ename": "TypeError",
     "evalue": "unhashable type: 'set'",
     "output_type": "error",
     "traceback": [
      "\u001b[1;31m---------------------------------------------------------------------------\u001b[0m",
      "\u001b[1;31mTypeError\u001b[0m                                 Traceback (most recent call last)",
      "Cell \u001b[1;32mIn[80], line 5\u001b[0m\n\u001b[0;32m      1\u001b[0m s1 \u001b[38;5;241m=\u001b[39m{\u001b[38;5;241m1\u001b[39m,\u001b[38;5;241m2\u001b[39m,\u001b[38;5;241m3\u001b[39m,\u001b[38;5;241m4\u001b[39m}\n\u001b[0;32m      2\u001b[0m \u001b[38;5;28mprint\u001b[39m(s1)\n\u001b[1;32m----> 5\u001b[0m s2\u001b[38;5;241m=\u001b[39m {\u001b[38;5;241m1\u001b[39m,\u001b[38;5;241m2\u001b[39m,\u001b[38;5;241m3\u001b[39m,{\u001b[38;5;241m4\u001b[39m,\u001b[38;5;241m5\u001b[39m}}\n\u001b[0;32m      6\u001b[0m \u001b[38;5;28mprint\u001b[39m(s2)\n",
      "\u001b[1;31mTypeError\u001b[0m: unhashable type: 'set'"
     ]
    }
   ],
   "source": [
    "s1 ={1,2,3,4}\n",
    "print(s1)\n",
    "\n",
    "\n",
    "s2= {1,2,3,{4,5}}\n",
    "print(s2)"
   ]
  },
  {
   "cell_type": "code",
   "execution_count": 84,
   "id": "f73f7952",
   "metadata": {},
   "outputs": [
    {
     "name": "stdout",
     "output_type": "stream",
     "text": [
      "{'hello', 1, (1, 2, 3), 4.5}\n",
      "{1, 2, 3}\n"
     ]
    },
    {
     "ename": "TypeError",
     "evalue": "unhashable type: 'list'",
     "output_type": "error",
     "traceback": [
      "\u001b[1;31m---------------------------------------------------------------------------\u001b[0m",
      "\u001b[1;31mTypeError\u001b[0m                                 Traceback (most recent call last)",
      "Cell \u001b[1;32mIn[84], line 9\u001b[0m\n\u001b[0;32m      5\u001b[0m s4 \u001b[38;5;241m=\u001b[39m \u001b[38;5;28mset\u001b[39m([\u001b[38;5;241m1\u001b[39m,\u001b[38;5;241m2\u001b[39m,\u001b[38;5;241m3\u001b[39m,\u001b[38;5;241m1\u001b[39m])\n\u001b[0;32m      6\u001b[0m \u001b[38;5;28mprint\u001b[39m(s4)\n\u001b[1;32m----> 9\u001b[0m s6 \u001b[38;5;241m=\u001b[39m {\u001b[38;5;241m1\u001b[39m,\u001b[38;5;241m2\u001b[39m,[\u001b[38;5;241m3\u001b[39m,\u001b[38;5;241m4\u001b[39m]}\n\u001b[0;32m     10\u001b[0m \u001b[38;5;28mprint\u001b[39m(s6)\n",
      "\u001b[1;31mTypeError\u001b[0m: unhashable type: 'list'"
     ]
    }
   ],
   "source": [
    "s3 ={1,'hello',4.5,True,(1,2,3)} # cannot have duplicates\n",
    "print(s3)\n",
    "\n",
    "\n",
    "s4 = set([1,2,3,1])\n",
    "print(s4)\n",
    "\n",
    "\n",
    "s6 = {1,2,[3,4]}\n",
    "print(s6)# cannot add mutable things"
   ]
  },
  {
   "cell_type": "code",
   "execution_count": 85,
   "id": "74163ea0",
   "metadata": {},
   "outputs": [
    {
     "name": "stdout",
     "output_type": "stream",
     "text": [
      "True\n"
     ]
    }
   ],
   "source": [
    "s1={1,2,3}\n",
    "s2={3,2,1}\n",
    "\n",
    "print(s1 == s2)"
   ]
  },
  {
   "cell_type": "code",
   "execution_count": 86,
   "id": "071d3c62",
   "metadata": {},
   "outputs": [
    {
     "ename": "TypeError",
     "evalue": "'set' object is not subscriptable",
     "output_type": "error",
     "traceback": [
      "\u001b[1;31m---------------------------------------------------------------------------\u001b[0m",
      "\u001b[1;31mTypeError\u001b[0m                                 Traceback (most recent call last)",
      "Cell \u001b[1;32mIn[86], line 4\u001b[0m\n\u001b[0;32m      1\u001b[0m \u001b[38;5;66;03m# accessing items\u001b[39;00m\n\u001b[0;32m      3\u001b[0m s1 \u001b[38;5;241m=\u001b[39m{\u001b[38;5;241m1\u001b[39m,\u001b[38;5;241m2\u001b[39m,\u001b[38;5;241m3\u001b[39m,\u001b[38;5;241m4\u001b[39m}\n\u001b[1;32m----> 4\u001b[0m s[\u001b[38;5;241m1\u001b[39m]\n",
      "\u001b[1;31mTypeError\u001b[0m: 'set' object is not subscriptable"
     ]
    }
   ],
   "source": [
    "# accessing items /slicing dose not happen in set\n",
    "\n",
    "s1 ={1,2,3,4}\n",
    "s[1]"
   ]
  },
  {
   "cell_type": "code",
   "execution_count": 87,
   "id": "835d4703",
   "metadata": {},
   "outputs": [
    {
     "ename": "TypeError",
     "evalue": "'set' object does not support item assignment",
     "output_type": "error",
     "traceback": [
      "\u001b[1;31m---------------------------------------------------------------------------\u001b[0m",
      "\u001b[1;31mTypeError\u001b[0m                                 Traceback (most recent call last)",
      "Cell \u001b[1;32mIn[87], line 4\u001b[0m\n\u001b[0;32m      1\u001b[0m \u001b[38;5;66;03m# edit items\u001b[39;00m\n\u001b[0;32m      3\u001b[0m s1\u001b[38;5;241m=\u001b[39m{\u001b[38;5;241m1\u001b[39m,\u001b[38;5;241m2\u001b[39m,\u001b[38;5;241m3\u001b[39m,\u001b[38;5;241m4\u001b[39m}\n\u001b[1;32m----> 4\u001b[0m s1[\u001b[38;5;241m1\u001b[39m]\u001b[38;5;241m=\u001b[39m\u001b[38;5;241m100\u001b[39m\n",
      "\u001b[1;31mTypeError\u001b[0m: 'set' object does not support item assignment"
     ]
    }
   ],
   "source": [
    "# edit items\n",
    "\n",
    "s1={1,2,3,4}\n",
    "s1[1]=100"
   ]
  },
  {
   "cell_type": "code",
   "execution_count": 94,
   "id": "adbab90e",
   "metadata": {},
   "outputs": [
    {
     "name": "stdout",
     "output_type": "stream",
     "text": [
      "{1, 2, 3, 4, 5}\n",
      "{1, 2, 3, 4, 5, 6, 7}\n"
     ]
    }
   ],
   "source": [
    "# add items\n",
    "s1={1,2,3,4}\n",
    "s1.add(5)\n",
    "print(s1)\n",
    "\n",
    "#s1.add(6,5)\n",
    "\n",
    "\n",
    "s1.update([5,6,7,7])# add multiple items\n",
    "print(s1)"
   ]
  },
  {
   "cell_type": "code",
   "execution_count": 93,
   "id": "eb4f7454",
   "metadata": {},
   "outputs": [
    {
     "name": "stdout",
     "output_type": "stream",
     "text": [
      "{1, 2, 3, 4}\n"
     ]
    },
    {
     "ename": "NameError",
     "evalue": "name 's' is not defined",
     "output_type": "error",
     "traceback": [
      "\u001b[1;31m---------------------------------------------------------------------------\u001b[0m",
      "\u001b[1;31mNameError\u001b[0m                                 Traceback (most recent call last)",
      "Cell \u001b[1;32mIn[93], line 6\u001b[0m\n\u001b[0;32m      4\u001b[0m \u001b[38;5;28mprint\u001b[39m(s)\n\u001b[0;32m      5\u001b[0m \u001b[38;5;28;01mdel\u001b[39;00m s\n\u001b[1;32m----> 6\u001b[0m \u001b[38;5;28mprint\u001b[39m(s)\n",
      "\u001b[1;31mNameError\u001b[0m: name 's' is not defined"
     ]
    }
   ],
   "source": [
    "# deleting items\n",
    "\n",
    "s ={1,2,3,4}\n",
    "print(s)\n",
    "del s\n",
    "print(s)"
   ]
  },
  {
   "cell_type": "code",
   "execution_count": 102,
   "id": "b50e0022",
   "metadata": {},
   "outputs": [
    {
     "name": "stdout",
     "output_type": "stream",
     "text": [
      "{2, 3, 4, 6, 7}\n",
      "{2, 3, 4, 6, 7}\n",
      "{3, 4, 6, 7}\n"
     ]
    }
   ],
   "source": [
    "# discard\n",
    "\n",
    "s1.discard(5)\n",
    "print(s1)\n",
    "s1.discard(9)\n",
    "print(s1)\n",
    "\n",
    "\n",
    "\n",
    "# remove\n",
    "s1.remove(2)\n",
    "print(s1)\n",
    "\n",
    "\n"
   ]
  },
  {
   "cell_type": "code",
   "execution_count": 103,
   "id": "7593d02a",
   "metadata": {},
   "outputs": [
    {
     "data": {
      "text/plain": [
       "3"
      ]
     },
     "execution_count": 103,
     "metadata": {},
     "output_type": "execute_result"
    }
   ],
   "source": [
    "s1.pop()"
   ]
  },
  {
   "cell_type": "code",
   "execution_count": 105,
   "id": "34f48bcb",
   "metadata": {},
   "outputs": [
    {
     "name": "stdout",
     "output_type": "stream",
     "text": [
      "set()\n"
     ]
    }
   ],
   "source": [
    "s1.clear()\n",
    "print(s1)"
   ]
  },
  {
   "cell_type": "code",
   "execution_count": 106,
   "id": "39f270c0",
   "metadata": {},
   "outputs": [
    {
     "data": {
      "text/plain": [
       "{1, 2, 3, 4, 5, 6, 7}"
      ]
     },
     "execution_count": 106,
     "metadata": {},
     "output_type": "execute_result"
    }
   ],
   "source": [
    "## set oprarions\n",
    "\n",
    "s1 = {1,2,3,4}\n",
    "s2={4,5,6,7}\n",
    "\n",
    "#unioun\n",
    "\n",
    "s1|s2"
   ]
  },
  {
   "cell_type": "code",
   "execution_count": 107,
   "id": "2d47f7e0",
   "metadata": {},
   "outputs": [
    {
     "data": {
      "text/plain": [
       "{4}"
      ]
     },
     "execution_count": 107,
     "metadata": {},
     "output_type": "execute_result"
    }
   ],
   "source": [
    "s1 & s2"
   ]
  },
  {
   "cell_type": "code",
   "execution_count": 108,
   "id": "fa876c14",
   "metadata": {},
   "outputs": [
    {
     "data": {
      "text/plain": [
       "{1, 2, 3}"
      ]
     },
     "execution_count": 108,
     "metadata": {},
     "output_type": "execute_result"
    }
   ],
   "source": [
    "s1 -s2 #  s1 items that not present in s2"
   ]
  },
  {
   "cell_type": "code",
   "execution_count": 109,
   "id": "0af67c88",
   "metadata": {},
   "outputs": [
    {
     "data": {
      "text/plain": [
       "{1, 2, 3, 5, 6, 7}"
      ]
     },
     "execution_count": 109,
     "metadata": {},
     "output_type": "execute_result"
    }
   ],
   "source": [
    "s1 ^ s2 # remove common .... symmertric test"
   ]
  },
  {
   "cell_type": "code",
   "execution_count": 110,
   "id": "35865b46",
   "metadata": {},
   "outputs": [
    {
     "data": {
      "text/plain": [
       "True"
      ]
     },
     "execution_count": 110,
     "metadata": {},
     "output_type": "execute_result"
    }
   ],
   "source": [
    "1 in s1"
   ]
  },
  {
   "cell_type": "code",
   "execution_count": 112,
   "id": "83e81e37",
   "metadata": {},
   "outputs": [
    {
     "data": {
      "text/plain": [
       "True"
      ]
     },
     "execution_count": 112,
     "metadata": {},
     "output_type": "execute_result"
    }
   ],
   "source": [
    "5 in s1|s2"
   ]
  },
  {
   "cell_type": "code",
   "execution_count": 117,
   "id": "3d9a7bf7",
   "metadata": {},
   "outputs": [
    {
     "name": "stdout",
     "output_type": "stream",
     "text": [
      "9\n",
      "45\n",
      "1\n",
      "9\n",
      "[9, 8, 7, 6, 5, 4, 3, 2, 1]\n"
     ]
    }
   ],
   "source": [
    "#len sum min max sorted\n",
    "s ={1,5,9,7,6,3,4,8,2,4}\n",
    "print(len(s))\n",
    "print(sum(s))\n",
    "print(min(s))\n",
    "print(max(s))\n",
    "print(sorted(s,reverse=True))"
   ]
  },
  {
   "cell_type": "code",
   "execution_count": 118,
   "id": "1903fb51",
   "metadata": {},
   "outputs": [
    {
     "data": {
      "text/plain": [
       "{1, 2, 3, 4, 5, 6, 7}"
      ]
     },
     "execution_count": 118,
     "metadata": {},
     "output_type": "execute_result"
    }
   ],
   "source": [
    "s1.union(s2) # === s1|s2"
   ]
  },
  {
   "cell_type": "code",
   "execution_count": 119,
   "id": "ad45b9c2",
   "metadata": {},
   "outputs": [
    {
     "name": "stdout",
     "output_type": "stream",
     "text": [
      "{1, 2, 3, 4, 5, 6, 7}\n",
      "{4, 5, 6, 7}\n"
     ]
    }
   ],
   "source": [
    "#union update\n",
    "s1.update(s2)\n",
    "print(s1)\n",
    "print(s2)"
   ]
  },
  {
   "cell_type": "code",
   "execution_count": 122,
   "id": "288148e0",
   "metadata": {},
   "outputs": [
    {
     "name": "stdout",
     "output_type": "stream",
     "text": [
      "{4, 5}\n",
      "{4, 5, 6, 7, 8}\n"
     ]
    }
   ],
   "source": [
    "s1 = {1,2,3,4,5}\n",
    "s2={4,5,6,7,8}\n",
    "s1.intersection_update(s2)\n",
    "print(s1)\n",
    "print(s2)"
   ]
  },
  {
   "cell_type": "code",
   "execution_count": 123,
   "id": "7005e6c5",
   "metadata": {},
   "outputs": [
    {
     "name": "stdout",
     "output_type": "stream",
     "text": [
      "set()\n",
      "{4, 5, 6, 7, 8}\n"
     ]
    }
   ],
   "source": [
    "s1.difference_update(s2)\n",
    "print(s1)\n",
    "print(s2)"
   ]
  },
  {
   "cell_type": "code",
   "execution_count": 125,
   "id": "c7ca7691",
   "metadata": {},
   "outputs": [
    {
     "name": "stdout",
     "output_type": "stream",
     "text": [
      "{4, 5, 6, 7, 8}\n",
      "{4, 5, 6, 7, 8}\n"
     ]
    }
   ],
   "source": [
    "s1.symmetric_difference(s2)\n",
    "s1.symmetric_difference_update(s2)\n",
    "\n",
    "print(s1)\n",
    "print(s2)"
   ]
  },
  {
   "cell_type": "code",
   "execution_count": 126,
   "id": "5dd21b48",
   "metadata": {},
   "outputs": [
    {
     "data": {
      "text/plain": [
       "True"
      ]
     },
     "execution_count": 126,
     "metadata": {},
     "output_type": "execute_result"
    }
   ],
   "source": [
    "s1 ={1,2,3,4}\n",
    "s2={7,8,5,6}\n",
    "s1.isdisjoint(s2)\n"
   ]
  },
  {
   "cell_type": "code",
   "execution_count": 127,
   "id": "f3f6bdd3",
   "metadata": {},
   "outputs": [
    {
     "data": {
      "text/plain": [
       "True"
      ]
     },
     "execution_count": 127,
     "metadata": {},
     "output_type": "execute_result"
    }
   ],
   "source": [
    "s1 ={1,2,3,4,5}\n",
    "s2 = {3,4,5}\n",
    "s2.issubset(s2)"
   ]
  },
  {
   "cell_type": "code",
   "execution_count": 128,
   "id": "bfe50a3a",
   "metadata": {},
   "outputs": [
    {
     "data": {
      "text/plain": [
       "True"
      ]
     },
     "execution_count": 128,
     "metadata": {},
     "output_type": "execute_result"
    }
   ],
   "source": [
    "s1 ={1,2,3,4,5}\n",
    "s2 = {3,4,5}\n",
    "s1.issuperset(s2)"
   ]
  },
  {
   "cell_type": "code",
   "execution_count": 129,
   "id": "d4c856c5",
   "metadata": {},
   "outputs": [
    {
     "name": "stdout",
     "output_type": "stream",
     "text": [
      "{1, 2, 3, 4, 5}\n",
      "{1, 2, 3, 4, 5}\n"
     ]
    }
   ],
   "source": [
    "\n",
    "s1 ={1,2,3,4,5}\n",
    "s2 = s1.copy()\n",
    "print(s1)\n",
    "print(s2)"
   ]
  },
  {
   "cell_type": "code",
   "execution_count": 131,
   "id": "17500095",
   "metadata": {},
   "outputs": [
    {
     "data": {
      "text/plain": [
       "frozenset"
      ]
     },
     "execution_count": 131,
     "metadata": {},
     "output_type": "execute_result"
    }
   ],
   "source": [
    "# forzon set immutable version of python set\n",
    "\n",
    "fs= frozenset([1,2,3])\n",
    "fs\n"
   ]
  },
  {
   "cell_type": "code",
   "execution_count": 133,
   "id": "7535f66e",
   "metadata": {},
   "outputs": [
    {
     "name": "stdout",
     "output_type": "stream",
     "text": [
      "frozenset({1, 2, 3, frozenset({36, 5})})\n"
     ]
    }
   ],
   "source": [
    "# what works and what dose not ---- union intersertion differtiation symmertric differntion are working on it\n",
    "#add,update,pop, remove dose not work on it\n",
    "#immutable version of set\n",
    "# app when only read only values you need\n",
    "# 2-d frozen set are possible \n",
    "fs=frozenset([1,2,3,frozenset([36,5])])\n",
    "print(fs)"
   ]
  },
  {
   "cell_type": "code",
   "execution_count": 138,
   "id": "20289dba",
   "metadata": {},
   "outputs": [
    {
     "data": {
      "text/plain": [
       "{1, 2, 3, 4}"
      ]
     },
     "execution_count": 138,
     "metadata": {},
     "output_type": "execute_result"
    }
   ],
   "source": [
    "# set comprehension\n",
    "\n",
    "{i for i in range(1,11) if i<5}"
   ]
  },
  {
   "cell_type": "markdown",
   "id": "4007d58f",
   "metadata": {},
   "source": [
    "# Dicitonary"
   ]
  },
  {
   "cell_type": "markdown",
   "id": "c0a3fd05",
   "metadata": {},
   "source": [
    "collection of keys and values, used to store data values like a map, which unlike other data types which holds only single value as an elments\n",
    "map or assosiative array\n",
    "\n",
    "dict={'name'='ajay','age'=123}\n",
    "\n",
    "charactristics\n",
    "\n",
    "1) mutable --- we perform function like add delet remove\n",
    "2) index has no meaning\n",
    "3) keys cannot be duplicated\n",
    "4) keys can't be mutable items"
   ]
  },
  {
   "cell_type": "code",
   "execution_count": 145,
   "id": "bfdcbc99",
   "metadata": {},
   "outputs": [
    {
     "name": "stdout",
     "output_type": "stream",
     "text": [
      "{}\n",
      "{'name': 'ajay', 'gender': 'male'}\n",
      "{(1, 2, 3): 1, 'heelo': 'woedl'}\n",
      "{'name': 'ajay', 'college': 'bit', 'sem': 4, 'subjects': {'dsa': 98, 'math': 98, 'english': 98}}\n",
      "{1: 1, 'name': 'ajay', 'age': 32}\n",
      "{'name': 'vijay'}\n"
     ]
    }
   ],
   "source": [
    "# create a dictionary\n",
    "\n",
    "d = {}\n",
    "print(d)\n",
    "\n",
    "# one d dictionry\n",
    "d1= {'name':'ajay','gender':'male'}\n",
    "print(d1)\n",
    "# mixed type keys\n",
    "d2 = {(1,2,3):1, 'heelo':'woedl'}\n",
    "print(d2)\n",
    "# 2D dictionary\n",
    "s={\n",
    "    'name' : 'ajay',\n",
    "    'college':'bit',\n",
    "    'sem':4,\n",
    "    'subjects':{\n",
    "        'dsa':98,\n",
    "        'math':98,\n",
    "        'english':98\n",
    "        \n",
    "    }\n",
    "}\n",
    "print(s)\n",
    "\n",
    "\n",
    "# using dict funciton\n",
    "\n",
    "d4 =dict([(1,1),('name','ajay'),('age',32)])\n",
    "print(d4)\n",
    "\n",
    "\n",
    "\n",
    "# cannot have duplicate keu]y\n",
    "\n",
    "\n",
    "d5={'name':'ajay','name':'vijay'}\n",
    "print(d5)"
   ]
  },
  {
   "cell_type": "code",
   "execution_count": 146,
   "id": "2f61b174",
   "metadata": {},
   "outputs": [
    {
     "ename": "TypeError",
     "evalue": "unhashable type: 'list'",
     "output_type": "error",
     "traceback": [
      "\u001b[1;31m---------------------------------------------------------------------------\u001b[0m",
      "\u001b[1;31mTypeError\u001b[0m                                 Traceback (most recent call last)",
      "Cell \u001b[1;32mIn[146], line 2\u001b[0m\n\u001b[0;32m      1\u001b[0m \u001b[38;5;66;03m# mutable items as key\u001b[39;00m\n\u001b[1;32m----> 2\u001b[0m d6\u001b[38;5;241m=\u001b[39m {\u001b[38;5;124m'\u001b[39m\u001b[38;5;124mname\u001b[39m\u001b[38;5;124m'\u001b[39m:\u001b[38;5;124m'\u001b[39m\u001b[38;5;124mnitish\u001b[39m\u001b[38;5;124m'\u001b[39m,[\u001b[38;5;241m1\u001b[39m,\u001b[38;5;241m2\u001b[39m,\u001b[38;5;241m3\u001b[39m]:\u001b[38;5;241m2\u001b[39m}\n\u001b[0;32m      3\u001b[0m \u001b[38;5;28mprint\u001b[39m(d6)\n",
      "\u001b[1;31mTypeError\u001b[0m: unhashable type: 'list'"
     ]
    }
   ],
   "source": [
    "# mutable items as key\n",
    "d6= {'name':'nitish',[1,2,3]:2}\n",
    "print(d6)"
   ]
  },
  {
   "cell_type": "code",
   "execution_count": 148,
   "id": "d6a8ed1e",
   "metadata": {},
   "outputs": [
    {
     "data": {
      "text/plain": [
       "'jack'"
      ]
     },
     "execution_count": 148,
     "metadata": {},
     "output_type": "execute_result"
    }
   ],
   "source": [
    "# accesss item in dictionry\n",
    "\n",
    "my_dict = {'name':'jack','age':56}\n",
    "my_dict['age']\n",
    "my_dict['name']"
   ]
  },
  {
   "cell_type": "code",
   "execution_count": 149,
   "id": "7ea1b76f",
   "metadata": {},
   "outputs": [
    {
     "data": {
      "text/plain": [
       "56"
      ]
     },
     "execution_count": 149,
     "metadata": {},
     "output_type": "execute_result"
    }
   ],
   "source": [
    "my_dict.get('age')"
   ]
  },
  {
   "cell_type": "code",
   "execution_count": 152,
   "id": "5f328ee0",
   "metadata": {},
   "outputs": [
    {
     "name": "stdout",
     "output_type": "stream",
     "text": [
      "{1: 1, 'name': 'ajay', 'age': 32, 'gender': 'Male'}\n",
      "{1: 1, 'name': 'ajay', 'age': 32, 'gender': 'Male', 'weight': '78'}\n"
     ]
    }
   ],
   "source": [
    "# adding new key value pair\n",
    "d4 ['gender']='Male'\n",
    "print(d4)\n",
    "d4['weight']='78'\n",
    "print(d4)"
   ]
  },
  {
   "cell_type": "code",
   "execution_count": 159,
   "id": "30b2905b",
   "metadata": {},
   "outputs": [
    {
     "name": "stdout",
     "output_type": "stream",
     "text": [
      "{1: 1, 'name': 'ajay', 'age': 32, 'gender': 'Male', 'weight': '78'}\n",
      "{1: 1, 'age': 32, 'gender': 'Male', 'weight': '78'}\n",
      "{1: 1, 'age': 32, 'gender': 'Male'}\n",
      "{1: 1, 'gender': 'Male'}\n",
      "{}\n"
     ]
    }
   ],
   "source": [
    "# remove key value pairs'\n",
    "\n",
    "\n",
    "d ={1: 1, 'name': 'ajay', 'age': 32, 'gender': 'Male', 'weight': '78'}\n",
    "print(d)\n",
    "d.pop('name')\n",
    "print(d)\n",
    "d.popitem()# last key value pair is deleted\n",
    "print(d)\n",
    "del d['age']\n",
    "print(d)\n",
    "d.clear()# empty dictionary\n",
    "print(d)"
   ]
  },
  {
   "cell_type": "code",
   "execution_count": 165,
   "id": "ef6b6d24",
   "metadata": {},
   "outputs": [
    {
     "name": "stdout",
     "output_type": "stream",
     "text": [
      "{'name': 'age', 'subjuct': {'mathes': 50, 'english': 22}}\n"
     ]
    },
    {
     "data": {
      "text/plain": [
       "{'name': 'age', 'subjuct': {'mathes': 50, 'english': 22, 'ds': 999}, 'sem': 4}"
      ]
     },
     "execution_count": 165,
     "metadata": {},
     "output_type": "execute_result"
    }
   ],
   "source": [
    "s ={'name':'age','subjuct':{'mathes':50,'english':22}}\n",
    "print(s)\n",
    "s['subjuct']['mathes']\n",
    "s['sem'] =4\n",
    "s['subjuct']['ds'] = 999\n",
    "s"
   ]
  },
  {
   "cell_type": "code",
   "execution_count": 166,
   "id": "330b05e4",
   "metadata": {},
   "outputs": [
    {
     "data": {
      "text/plain": [
       "{'name': 'age', 'subjuct': {'english': 22, 'ds': 999}, 'sem': 4}"
      ]
     },
     "execution_count": 166,
     "metadata": {},
     "output_type": "execute_result"
    }
   ],
   "source": [
    "del s['subjuct']['mathes']\n",
    "s"
   ]
  },
  {
   "cell_type": "code",
   "execution_count": 168,
   "id": "e2180f88",
   "metadata": {},
   "outputs": [
    {
     "data": {
      "text/plain": [
       "{'name': 'age', 'subjuct': {'english': 98, 'ds': 999}, 'sem': 5}"
      ]
     },
     "execution_count": 168,
     "metadata": {},
     "output_type": "execute_result"
    }
   ],
   "source": [
    "# editing key value pair\n",
    "s['sem']= 5\n",
    "s\n",
    "s['subjuct']['english'] =98\n",
    "s"
   ]
  },
  {
   "cell_type": "code",
   "execution_count": 171,
   "id": "abec6d77",
   "metadata": {},
   "outputs": [
    {
     "name": "stdout",
     "output_type": "stream",
     "text": [
      "{'name': 'age', 'subjuct': {'english': 98, 'ds': 999}, 'sem': 5}\n"
     ]
    },
    {
     "data": {
      "text/plain": [
       "True"
      ]
     },
     "execution_count": 171,
     "metadata": {},
     "output_type": "execute_result"
    }
   ],
   "source": [
    "# Dictonary operation\n",
    "\n",
    "print(s)\n",
    "'age' in s\n",
    "\n",
    "'name' in s # work on keys only"
   ]
  },
  {
   "cell_type": "code",
   "execution_count": 172,
   "id": "5be3ee07",
   "metadata": {},
   "outputs": [
    {
     "name": "stdout",
     "output_type": "stream",
     "text": [
      "name\n",
      "gender\n",
      "age\n"
     ]
    }
   ],
   "source": [
    "d ={'name':'ajay','gender':'male','age':33}\n",
    "for i in d:\n",
    "    print(i)"
   ]
  },
  {
   "cell_type": "code",
   "execution_count": 173,
   "id": "76834cae",
   "metadata": {},
   "outputs": [
    {
     "name": "stdout",
     "output_type": "stream",
     "text": [
      "name ajay\n",
      "gender male\n",
      "age 33\n"
     ]
    }
   ],
   "source": [
    "for i in d:\n",
    "    print(i, d[i])"
   ]
  },
  {
   "cell_type": "code",
   "execution_count": 174,
   "id": "f4c95183",
   "metadata": {},
   "outputs": [
    {
     "data": {
      "text/plain": [
       "3"
      ]
     },
     "execution_count": 174,
     "metadata": {},
     "output_type": "execute_result"
    }
   ],
   "source": [
    "# len/sorted\n",
    "\n",
    "len(d)"
   ]
  },
  {
   "cell_type": "code",
   "execution_count": 175,
   "id": "1cf6f9ac",
   "metadata": {},
   "outputs": [
    {
     "data": {
      "text/plain": [
       "['age', 'gender', 'name']"
      ]
     },
     "execution_count": 175,
     "metadata": {},
     "output_type": "execute_result"
    }
   ],
   "source": [
    "sorted(d)"
   ]
  },
  {
   "cell_type": "code",
   "execution_count": 176,
   "id": "d5ac2c46",
   "metadata": {},
   "outputs": [
    {
     "data": {
      "text/plain": [
       "'age'"
      ]
     },
     "execution_count": 176,
     "metadata": {},
     "output_type": "execute_result"
    }
   ],
   "source": [
    "min(d)"
   ]
  },
  {
   "cell_type": "code",
   "execution_count": 177,
   "id": "0e6d936c",
   "metadata": {},
   "outputs": [
    {
     "data": {
      "text/plain": [
       "'name'"
      ]
     },
     "execution_count": 177,
     "metadata": {},
     "output_type": "execute_result"
    }
   ],
   "source": [
    "max(d)"
   ]
  },
  {
   "cell_type": "code",
   "execution_count": 181,
   "id": "01662831",
   "metadata": {},
   "outputs": [
    {
     "name": "stdout",
     "output_type": "stream",
     "text": [
      "{'name': 'ajay', 'gender': 'male', 'age': 33}\n",
      "dict_items([('name', 'ajay'), ('gender', 'male'), ('age', 33)])\n",
      "dict_keys(['name', 'gender', 'age'])\n",
      "dict_values(['ajay', 'male', 33])\n"
     ]
    }
   ],
   "source": [
    "###items/keys/values\n",
    "\n",
    "print(d)\n",
    "\n",
    "print(d.items())\n",
    "print(d.keys())\n",
    "print(d.values())"
   ]
  },
  {
   "cell_type": "code",
   "execution_count": 183,
   "id": "d2e270f0",
   "metadata": {},
   "outputs": [
    {
     "name": "stdout",
     "output_type": "stream",
     "text": [
      "{1: 2, 3: 4, 5: 6, 4: 7, 6: 8}\n"
     ]
    }
   ],
   "source": [
    "#update\n",
    "\n",
    "d1 = {1:2,3:4,5:6}\n",
    "d2 = {4:7,6:8}\n",
    "d1.update(d2)\n",
    "print(d1)"
   ]
  },
  {
   "cell_type": "code",
   "execution_count": 184,
   "id": "3ad0ebba",
   "metadata": {},
   "outputs": [
    {
     "data": {
      "text/plain": [
       "{1: 1, 2: 4, 3: 9, 4: 16, 5: 25, 6: 36, 7: 49, 8: 64, 9: 81, 10: 100}"
      ]
     },
     "execution_count": 184,
     "metadata": {},
     "output_type": "execute_result"
    }
   ],
   "source": [
    "### Dictiontory comprehension\n",
    "\n",
    "#print 1 st 10 numbers and their squares\n",
    "\n",
    "{i:i**2 for i in range(1,11)}"
   ]
  },
  {
   "cell_type": "code",
   "execution_count": 185,
   "id": "e129ea7c",
   "metadata": {},
   "outputs": [
    {
     "data": {
      "text/plain": [
       "{'delhi': 650.0, 'mumbai': 1300.0, 'banglore': 1950.0}"
      ]
     },
     "execution_count": 185,
     "metadata": {},
     "output_type": "execute_result"
    }
   ],
   "source": [
    "#using zip\n",
    "distances ={'delhi':1000,'mumbai':2000,'banglore':3000}\n",
    "{key:value*0.65 for (key,value) in distances.items()}"
   ]
  },
  {
   "cell_type": "code",
   "execution_count": 191,
   "id": "39dc80de",
   "metadata": {},
   "outputs": [
    {
     "data": {
      "text/plain": [
       "{'sun': 65,\n",
       " 'tue': 4.2,\n",
       " 'sat': 532.1,\n",
       " 'wed': 8.1,\n",
       " 'fri': 9.2,\n",
       " 'mon': 30.5,\n",
       " 'thr': 57.5}"
      ]
     },
     "execution_count": 191,
     "metadata": {},
     "output_type": "execute_result"
    }
   ],
   "source": [
    "# using zip\n",
    "day ={'sun','mon','tue','wed','thr','fri','sat'}\n",
    "temp = {30.5,65,532.1,57.5,8.1,9.2,4.2}\n",
    "\n",
    "{i:j for(i,j) in zip(day,temp)}"
   ]
  },
  {
   "cell_type": "code",
   "execution_count": 193,
   "id": "68d056c6",
   "metadata": {},
   "outputs": [
    {
     "data": {
      "text/plain": [
       "{'phone': 10, 'charger': 32}"
      ]
     },
     "execution_count": 193,
     "metadata": {},
     "output_type": "execute_result"
    }
   ],
   "source": [
    "# using if condition'\n",
    "\n",
    "products ={'phone':10,'laptotp':0,'charger':32,'tablet':0}\n",
    "{i:j for (i,j) in products.items() if j>0}"
   ]
  },
  {
   "cell_type": "code",
   "execution_count": null,
   "id": "1b0bdd19",
   "metadata": {},
   "outputs": [],
   "source": [
    "## nested comprehension\n",
    "# print tables of number form 2 to 4\n",
    "\n",
    "{\n",
    "    2:{1:}\n",
    "    \n",
    "}"
   ]
  },
  {
   "cell_type": "code",
   "execution_count": 196,
   "id": "234ea3ad",
   "metadata": {},
   "outputs": [
    {
     "data": {
      "text/plain": [
       "{2: {2: 4, 3: 6, 4: 8, 5: 10, 6: 12, 7: 14, 8: 16, 9: 18, 10: 20},\n",
       " 3: {2: 6, 3: 9, 4: 12, 5: 15, 6: 18, 7: 21, 8: 24, 9: 27, 10: 30},\n",
       " 4: {2: 8, 3: 12, 4: 16, 5: 20, 6: 24, 7: 28, 8: 32, 9: 36, 10: 40}}"
      ]
     },
     "execution_count": 196,
     "metadata": {},
     "output_type": "execute_result"
    }
   ],
   "source": [
    "{i:{j:i*j for j in range(2,11)} for i in range(2,5)}"
   ]
  },
  {
   "cell_type": "code",
   "execution_count": null,
   "id": "8fafa145",
   "metadata": {},
   "outputs": [],
   "source": []
  }
 ],
 "metadata": {
  "kernelspec": {
   "display_name": "Python 3 (ipykernel)",
   "language": "python",
   "name": "python3"
  },
  "language_info": {
   "codemirror_mode": {
    "name": "ipython",
    "version": 3
   },
   "file_extension": ".py",
   "mimetype": "text/x-python",
   "name": "python",
   "nbconvert_exporter": "python",
   "pygments_lexer": "ipython3",
   "version": "3.11.7"
  }
 },
 "nbformat": 4,
 "nbformat_minor": 5
}
