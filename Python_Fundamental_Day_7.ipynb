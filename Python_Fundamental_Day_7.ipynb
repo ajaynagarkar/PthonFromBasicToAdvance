{
 "cells": [
  {
   "cell_type": "markdown",
   "id": "301b045c",
   "metadata": {},
   "source": [
    "# OOPs'\n",
    "object oriented programing\n",
    "Generality to specificity\n",
    "\n",
    "main:-\n",
    "oops give programer to create his own data type"
   ]
  },
  {
   "cell_type": "markdown",
   "id": "df85fdfd",
   "metadata": {},
   "source": [
    "# Principle\n",
    "\n",
    "Class\n",
    "object\n",
    "polymorphism\n",
    "encasulation\n",
    "inheritance\n",
    "Abstraction"
   ]
  },
  {
   "cell_type": "markdown",
   "id": "72cb495e",
   "metadata": {},
   "source": [
    "# object"
   ]
  },
  {
   "cell_type": "code",
   "execution_count": 1,
   "id": "2e208a23",
   "metadata": {},
   "outputs": [
    {
     "name": "stdout",
     "output_type": "stream",
     "text": [
      "<class 'list'>\n"
     ]
    }
   ],
   "source": [
    "L = [1,2,3]\n",
    "print(type(L))"
   ]
  },
  {
   "cell_type": "code",
   "execution_count": 2,
   "id": "dc640664",
   "metadata": {},
   "outputs": [
    {
     "ename": "AttributeError",
     "evalue": "'list' object has no attribute 'upper'",
     "output_type": "error",
     "traceback": [
      "\u001b[1;31m---------------------------------------------------------------------------\u001b[0m",
      "\u001b[1;31mAttributeError\u001b[0m                            Traceback (most recent call last)",
      "Cell \u001b[1;32mIn[2], line 1\u001b[0m\n\u001b[1;32m----> 1\u001b[0m L\u001b[38;5;241m.\u001b[39mupper()\n",
      "\u001b[1;31mAttributeError\u001b[0m: 'list' object has no attribute 'upper'"
     ]
    }
   ],
   "source": [
    "L.upper()"
   ]
  },
  {
   "cell_type": "markdown",
   "id": "9792447f",
   "metadata": {},
   "source": [
    "# list tuple dictonry set are classes which are built in classed\n",
    "\n",
    "make varible of datatype its object of that class\n",
    "\n",
    "L  = object of that class\n",
    "List = is class\n"
   ]
  },
  {
   "cell_type": "markdown",
   "id": "8febf098",
   "metadata": {},
   "source": [
    "#  class\n",
    "class is a blueprint \n",
    "\n",
    "\n",
    "class containg data/property    functions/bheavior\n",
    "\n",
    "\n",
    "Object is an instance of class"
   ]
  },
  {
   "cell_type": "code",
   "execution_count": null,
   "id": "f8bebcd8",
   "metadata": {},
   "outputs": [],
   "source": [
    "# syntax to create an object\n",
    "#objectname= classname()"
   ]
  },
  {
   "cell_type": "code",
   "execution_count": null,
   "id": "712e469c",
   "metadata": {},
   "outputs": [],
   "source": [
    "L1 = list([1,2,3])\n",
    "L1"
   ]
  },
  {
   "cell_type": "code",
   "execution_count": null,
   "id": "2d155e38",
   "metadata": {},
   "outputs": [],
   "source": [
    "# we use pascal case\n",
    "HelloWorld"
   ]
  },
  {
   "cell_type": "code",
   "execution_count": null,
   "id": "273715e0",
   "metadata": {},
   "outputs": [],
   "source": [
    "# small banking application \n",
    "class Atm:\n",
    "    # constructor :- funtion inside the class (special function:- code automatically trigger )\n",
    "    \n",
    "    def __init__(self):\n",
    "        self.pin = ''\n",
    "        self.balance = 0\n",
    "        self.menu()\n",
    "        \n",
    "    def menu(self):\n",
    "        user_input=input(\"\"\"\n",
    "        Hi, How can I Help you?\n",
    "        1. Press 1 to create Pin\n",
    "        2. Press 2 to change Pin\n",
    "        3. Press 3 to Check Balnace\n",
    "        4. Press 4 to Withdraw\n",
    "        5. Anything else to exit\n",
    "        \n",
    "        \n",
    "        \"\"\")\n",
    "        if user_input == '1':\n",
    "            #create pin\n",
    "            self.create_pin()\n",
    "        elif user_input == '2':\n",
    "            # change pin\n",
    "            self.change_pin()\n",
    "            pass\n",
    "        elif user_input == '3':\n",
    "            \n",
    "            #check Balance\n",
    "            self.check_balance()\n",
    "            pass\n",
    "        elif user_input == '4':\n",
    "            #wihtdraw\n",
    "            self.withdraw()\n",
    "            pass\n",
    "        else:\n",
    "            self.exit_()\n",
    "            \n",
    "            \n",
    "    def create_pin(self):\n",
    "        user_pin=input('enter your pin')\n",
    "        self.pin= user_pin\n",
    "        \n",
    "        user_balance=int(input('enter balance'))\n",
    "        self.balance = user_balance\n",
    "        \n",
    "        print(\"pin created sucessfully\")\n",
    "        self.menu()\n",
    "        \n",
    "    def change_pin(self):\n",
    "        old_pin=input('enter old pin')\n",
    "        if old_pin == self.pin:\n",
    "            # let him change the pin\n",
    "            new_pin=input('enter new pin')\n",
    "            self.pin = new_pin\n",
    "            print('pin change sucessfully')\n",
    "        else:\n",
    "            print('nai karana re baba')\n",
    "            self.menu()\n",
    "            \n",
    "    def check_balance(self):\n",
    "        user_pin=input('enter your pin')\n",
    "        if user_pin == self.pin:\n",
    "            print('your balance is',self.balance)\n",
    "        else:\n",
    "            print('chal nikal re')\n",
    "            \n",
    "    def withdraw(self):\n",
    "        user_pin=input('enter your pin')\n",
    "        if user_pin == self.pin:\n",
    "            #allow to withdraw\n",
    "            amount = int(input('enter the amount'))\n",
    "            if amount <= self.balance:\n",
    "                self.balance = self.balance - amount\n",
    "                print('withdrwal sucessfully',self.balance)\n",
    "                \n",
    "            else:\n",
    "                print('no balance is available')\n",
    "            self.menu()\n",
    "        else:\n",
    "            print('pin is incorecct')\n",
    "        self.menu()\n",
    "        \n",
    "    def exit_(self):\n",
    "        print('Thank you for visiting our bank atm')"
   ]
  },
  {
   "cell_type": "code",
   "execution_count": null,
   "id": "e9f89c33",
   "metadata": {},
   "outputs": [],
   "source": [
    "obj = Atm()"
   ]
  },
  {
   "cell_type": "code",
   "execution_count": null,
   "id": "44803ba4",
   "metadata": {},
   "outputs": [],
   "source": [
    "print(type(obj))"
   ]
  },
  {
   "cell_type": "code",
   "execution_count": 3,
   "id": "f8df37e9",
   "metadata": {},
   "outputs": [
    {
     "name": "stdout",
     "output_type": "stream",
     "text": [
      "[1, 2, 3]\n"
     ]
    }
   ],
   "source": [
    "p=[1,2,3]\n",
    "print(p)"
   ]
  },
  {
   "cell_type": "code",
   "execution_count": 6,
   "id": "4d09f81c",
   "metadata": {},
   "outputs": [],
   "source": [
    "len(p)# len is function because it is outside the class\n",
    "p.append(4)#method - it is inside the class\n",
    "    "
   ]
  },
  {
   "cell_type": "code",
   "execution_count": null,
   "id": "569cf6d4",
   "metadata": {},
   "outputs": [],
   "source": []
  },
  {
   "cell_type": "markdown",
   "id": "6d7b19b4",
   "metadata": {},
   "source": [
    "# Magic methods"
   ]
  },
  {
   "cell_type": "markdown",
   "id": "dddde11d",
   "metadata": {},
   "source": [
    "Dunder Method :-  special methods :- it has its own super power : --  __name__"
   ]
  },
  {
   "cell_type": "code",
   "execution_count": 7,
   "id": "c569320f",
   "metadata": {},
   "outputs": [],
   "source": [
    "# consturctor : - it is a special method it automatically triggers when object is created\n",
    "# benefit : - use to write configration related code , application to connect to backhand related, database realted code, internet related code"
   ]
  },
  {
   "cell_type": "code",
   "execution_count": 13,
   "id": "861c3896",
   "metadata": {},
   "outputs": [],
   "source": [
    "class Fraction:\n",
    "    # parameterized constructor\n",
    "    def __init__(self,x,y):\n",
    "        self.num =x\n",
    "        self.den = y\n",
    "        \n",
    "    def __str__(self):\n",
    "        \n",
    "        return '{}/{}'.format(self.num,self.den)\n",
    "    \n",
    "    def __add__(self,other):\n",
    "        new_num = self.num * other.den + other.num * self.den\n",
    "        new_den = self.den * other.den\n",
    "        \n",
    "        return '{}/{}'.format(new_num,new_den)\n",
    "        \n",
    "    def __sub__(self,other):\n",
    "        new_num = self.num * other.den - other.num * self.den\n",
    "        new_den = self.den * other.den\n",
    "        \n",
    "        return '{}/{}'.format(new_num,new_den)\n",
    "    def __mul__(self,other):\n",
    "        new_num = self.num *other.num \n",
    "        new_den = self.den * other.den\n",
    "        \n",
    "        return '{}/{}'.format(new_num,new_den)\n",
    "    def __truediv__(self,other):\n",
    "        new_num = self.num * other.num + other.den * self.den\n",
    "        new_den = self.den * other.num\n",
    "        \n",
    "        return '{}/{}'.format(new_num,new_den)\n",
    "    \n",
    "    def convert_to_decimal(self):\n",
    "        return self.num/self.den"
   ]
  },
  {
   "cell_type": "code",
   "execution_count": null,
   "id": "cb1e4706",
   "metadata": {},
   "outputs": [],
   "source": [
    "\n"
   ]
  },
  {
   "cell_type": "code",
   "execution_count": 14,
   "id": "78cb158b",
   "metadata": {},
   "outputs": [],
   "source": [
    "fr1 = Fraction(3,4)\n",
    "fr2 = Fraction(1,2)"
   ]
  },
  {
   "cell_type": "code",
   "execution_count": 16,
   "id": "cf323475",
   "metadata": {},
   "outputs": [
    {
     "data": {
      "text/plain": [
       "0.75"
      ]
     },
     "execution_count": 16,
     "metadata": {},
     "output_type": "execute_result"
    }
   ],
   "source": [
    "fr1.convert_to_decimal()"
   ]
  },
  {
   "cell_type": "code",
   "execution_count": 15,
   "id": "4d2fe51b",
   "metadata": {},
   "outputs": [
    {
     "name": "stdout",
     "output_type": "stream",
     "text": [
      "11/6\n",
      "3/8\n",
      "10/8\n",
      "-2/8\n"
     ]
    }
   ],
   "source": [
    "print(fr2/fr1)\n",
    "print(fr2*fr1)\n",
    "print(fr2+fr1)\n",
    "print(fr2-fr1)"
   ]
  }
 ],
 "metadata": {
  "kernelspec": {
   "display_name": "Python 3 (ipykernel)",
   "language": "python",
   "name": "python3"
  },
  "language_info": {
   "codemirror_mode": {
    "name": "ipython",
    "version": 3
   },
   "file_extension": ".py",
   "mimetype": "text/x-python",
   "name": "python",
   "nbconvert_exporter": "python",
   "pygments_lexer": "ipython3",
   "version": "3.11.7"
  }
 },
 "nbformat": 4,
 "nbformat_minor": 5
}
