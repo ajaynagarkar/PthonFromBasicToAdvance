{
 "cells": [
  {
   "cell_type": "code",
   "execution_count": null,
   "id": "184c564c",
   "metadata": {},
   "outputs": [],
   "source": [
    "# sequence of sum 1\\1! + 2\\2! + 3\\3!+ ......."
   ]
  },
  {
   "cell_type": "code",
   "execution_count": 4,
   "id": "7f123602",
   "metadata": {},
   "outputs": [
    {
     "name": "stdout",
     "output_type": "stream",
     "text": [
      "enter n 3\n",
      "2.5\n"
     ]
    }
   ],
   "source": [
    "n=int(input('enter n '))\n",
    "result = 0\n",
    "fact = 1\n",
    "for i in range(1,n+1):\n",
    "    fact = fact * i\n",
    "    result = result + i/ fact\n",
    "print(result)\n",
    "    "
   ]
  },
  {
   "cell_type": "markdown",
   "id": "8b558022",
   "metadata": {},
   "source": [
    "## Nested loops "
   ]
  },
  {
   "cell_type": "code",
   "execution_count": 5,
   "id": "b576568c",
   "metadata": {},
   "outputs": [
    {
     "name": "stdout",
     "output_type": "stream",
     "text": [
      "1 1\n",
      "1 2\n",
      "1 3\n",
      "1 4\n",
      "2 1\n",
      "2 2\n",
      "2 3\n",
      "2 4\n",
      "3 1\n",
      "3 2\n",
      "3 3\n",
      "3 4\n",
      "4 1\n",
      "4 2\n",
      "4 3\n",
      "4 4\n"
     ]
    }
   ],
   "source": [
    "for i in range(1, 5):\n",
    "    for j in range(1,5):\n",
    "        print(i,j)"
   ]
  },
  {
   "cell_type": "code",
   "execution_count": null,
   "id": "b751b0f0",
   "metadata": {},
   "outputs": [],
   "source": [
    "'''*\n",
    "**\n",
    "***\n",
    "****'''\n"
   ]
  },
  {
   "cell_type": "code",
   "execution_count": 14,
   "id": "37a75f08",
   "metadata": {},
   "outputs": [
    {
     "name": "stdout",
     "output_type": "stream",
     "text": [
      "enter no of rows:10\n",
      "*\n",
      "**\n",
      "***\n",
      "****\n",
      "*****\n",
      "******\n",
      "*******\n",
      "********\n",
      "*********\n",
      "**********\n"
     ]
    }
   ],
   "source": [
    "rows=int(input('enter no of rows:'))\n",
    "for i in range (1,rows+1):\n",
    "    for j in range (1, i+1):\n",
    "        print('*', end = '')\n",
    "    print()"
   ]
  },
  {
   "cell_type": "markdown",
   "id": "a4d544f9",
   "metadata": {},
   "source": [
    "1\n",
    "121\n",
    "12321\n",
    "1234321\n"
   ]
  },
  {
   "cell_type": "code",
   "execution_count": 22,
   "id": "3efd8796",
   "metadata": {},
   "outputs": [
    {
     "name": "stdout",
     "output_type": "stream",
     "text": [
      "enter no of rows:5\n",
      "1\n",
      "121\n",
      "12321\n",
      "1234321\n",
      "123454321\n"
     ]
    }
   ],
   "source": [
    "#\n",
    "rows=int(input('enter no of rows:'))\n",
    "for i in range (1,rows+1):\n",
    "    for j in range(1, i+1):\n",
    "        print(j , end = '')\n",
    "    for k in range(i-1,0,-1):\n",
    "        print(k, end ='')\n",
    "    print()"
   ]
  },
  {
   "cell_type": "code",
   "execution_count": 19,
   "id": "7c1e6686",
   "metadata": {},
   "outputs": [
    {
     "name": "stdout",
     "output_type": "stream",
     "text": [
      "\n"
     ]
    }
   ],
   "source": [
    "for i in range(1,1):\n",
    "    print(i)\n",
    "print()"
   ]
  },
  {
   "cell_type": "markdown",
   "id": "3c69b764",
   "metadata": {},
   "source": [
    "# loops control statement"
   ]
  },
  {
   "cell_type": "code",
   "execution_count": 24,
   "id": "26cf77a3",
   "metadata": {},
   "outputs": [
    {
     "name": "stdout",
     "output_type": "stream",
     "text": [
      "1\n",
      "2\n",
      "3\n",
      "4\n"
     ]
    }
   ],
   "source": [
    "#Break\n",
    "for i in range(1,10):\n",
    "    if i == 5:\n",
    "        break\n",
    "    print(i)##database searching or searching, "
   ]
  },
  {
   "cell_type": "code",
   "execution_count": 25,
   "id": "0465719d",
   "metadata": {},
   "outputs": [
    {
     "name": "stdout",
     "output_type": "stream",
     "text": [
      "enter lower range10\n",
      "enter upper range100\n",
      "11\n",
      "13\n",
      "17\n",
      "19\n",
      "23\n",
      "29\n",
      "31\n",
      "37\n",
      "41\n",
      "43\n",
      "47\n",
      "53\n",
      "59\n",
      "61\n",
      "67\n",
      "71\n",
      "73\n",
      "79\n",
      "83\n",
      "89\n",
      "97\n"
     ]
    }
   ],
   "source": [
    "lower = int (input('enter lower range'))\n",
    "upper = int(input('enter upper range'))\n",
    "\n",
    "for i in range (lower, upper +1):\n",
    "    for j in range(2, i):\n",
    "        if i % j == 0:\n",
    "            break\n",
    "    else:\n",
    "        print(i)"
   ]
  },
  {
   "cell_type": "code",
   "execution_count": 26,
   "id": "bfb73167",
   "metadata": {},
   "outputs": [
    {
     "name": "stdout",
     "output_type": "stream",
     "text": [
      "1\n",
      "2\n",
      "3\n",
      "4\n",
      "6\n",
      "7\n",
      "8\n",
      "9\n"
     ]
    }
   ],
   "source": [
    "# continue\n",
    "\n",
    "for i in range(1,10):\n",
    "    if i == 5:\n",
    "        continue\n",
    "    print(i)## current exucation is not taken e.g. showing stock value any product for showing user"
   ]
  },
  {
   "cell_type": "code",
   "execution_count": 27,
   "id": "8ea13727",
   "metadata": {},
   "outputs": [],
   "source": [
    "# pass statament\n",
    "for i in range(1,10):\n",
    "    pass"
   ]
  },
  {
   "cell_type": "markdown",
   "id": "ec5128c8",
   "metadata": {},
   "source": [
    "# Strings"
   ]
  },
  {
   "cell_type": "markdown",
   "id": "f4c9379f",
   "metadata": {},
   "source": [
    "#### strings are sequnce of charactor \n",
    "#### -In python specifically, strings are a sequence of unicode charactors(2**16 store values)\n",
    "#### -creating strings\n",
    "#### -Accessing strings\n",
    "#### -Adding chars to strings\n",
    "#### -Editing strings\n",
    "#### -Delecting strings\n",
    "##### -String Functions\n",
    "#read howto"
   ]
  },
  {
   "cell_type": "code",
   "execution_count": 30,
   "id": "96c72239",
   "metadata": {},
   "outputs": [],
   "source": [
    "# create stings\n",
    "s = 'hello'\n",
    "s=  \"hello\"\n",
    "#multiline stings\n",
    "s=  '''hello'''\n",
    "s =\"\"\"hello\"\"\"\n",
    "s = str('hello')"
   ]
  },
  {
   "cell_type": "code",
   "execution_count": 28,
   "id": "bfb6da4c",
   "metadata": {},
   "outputs": [
    {
     "ename": "SyntaxError",
     "evalue": "unterminated string literal (detected at line 1) (1743659216.py, line 1)",
     "output_type": "error",
     "traceback": [
      "\u001b[1;36m  Cell \u001b[1;32mIn[28], line 1\u001b[1;36m\u001b[0m\n\u001b[1;33m    'its' raining outside'\u001b[0m\n\u001b[1;37m                         ^\u001b[0m\n\u001b[1;31mSyntaxError\u001b[0m\u001b[1;31m:\u001b[0m unterminated string literal (detected at line 1)\n"
     ]
    }
   ],
   "source": [
    "# why use single and double stings\n",
    "'its' raining outside'"
   ]
  },
  {
   "cell_type": "code",
   "execution_count": 29,
   "id": "f4572b2a",
   "metadata": {},
   "outputs": [
    {
     "data": {
      "text/plain": [
       "\"its's raining outside\""
      ]
     },
     "execution_count": 29,
     "metadata": {},
     "output_type": "execute_result"
    }
   ],
   "source": [
    "\"its's raining outside\""
   ]
  },
  {
   "cell_type": "code",
   "execution_count": 34,
   "id": "2b5e234b",
   "metadata": {},
   "outputs": [
    {
     "name": "stdout",
     "output_type": "stream",
     "text": [
      "e\n"
     ]
    }
   ],
   "source": [
    "# indexing\n",
    "s = 'hello world'\n",
    "# postive indexing\n",
    "print(s[1])"
   ]
  },
  {
   "cell_type": "code",
   "execution_count": 36,
   "id": "4ce99801",
   "metadata": {},
   "outputs": [
    {
     "name": "stdout",
     "output_type": "stream",
     "text": [
      "r\n"
     ]
    }
   ],
   "source": [
    "#negative indexing\n",
    "s ='hello world'\n",
    "print(s[-3])"
   ]
  },
  {
   "cell_type": "code",
   "execution_count": 38,
   "id": "8a70530e",
   "metadata": {},
   "outputs": [
    {
     "name": "stdout",
     "output_type": "stream",
     "text": [
      "ello\n"
     ]
    }
   ],
   "source": [
    "# slicing\n",
    "s = 'hello world'\n",
    "print(s[1:5:1])"
   ]
  },
  {
   "cell_type": "code",
   "execution_count": 47,
   "id": "f042037a",
   "metadata": {},
   "outputs": [
    {
     "name": "stdout",
     "output_type": "stream",
     "text": [
      "l\n",
      "llo world\n",
      "hel\n",
      "hello world\n",
      "hello worl\n",
      "hlo\n",
      "worl\n",
      "dlrow olleh\n",
      "wol\n"
     ]
    }
   ],
   "source": [
    "print(s[2:3])\n",
    "print(s[2:])\n",
    "print(s[:3])\n",
    "print(s[:])\n",
    "print(s[:-1])\n",
    "print(s[0:6:2])\n",
    "print(s[-5:-1])\n",
    "print(s[::-1])\n",
    "print(s[6:0:-2])"
   ]
  },
  {
   "cell_type": "code",
   "execution_count": 50,
   "id": "5e1d8f47",
   "metadata": {},
   "outputs": [
    {
     "name": "stdout",
     "output_type": "stream",
     "text": [
      "world\n",
      "dlrow\n"
     ]
    }
   ],
   "source": [
    "#negative indexig\n",
    "s = 'hello world'\n",
    "print(s[-5:])\n",
    "print(s[-1:-6:-1])"
   ]
  },
  {
   "cell_type": "code",
   "execution_count": 51,
   "id": "49fcc51f",
   "metadata": {},
   "outputs": [
    {
     "ename": "NameError",
     "evalue": "name 's' is not defined",
     "output_type": "error",
     "traceback": [
      "\u001b[1;31m---------------------------------------------------------------------------\u001b[0m",
      "\u001b[1;31mNameError\u001b[0m                                 Traceback (most recent call last)",
      "Cell \u001b[1;32mIn[51], line 4\u001b[0m\n\u001b[0;32m      2\u001b[0m s \u001b[38;5;241m=\u001b[39m \u001b[38;5;124m'\u001b[39m\u001b[38;5;124mhello world\u001b[39m\u001b[38;5;124m'\u001b[39m\n\u001b[0;32m      3\u001b[0m \u001b[38;5;28;01mdel\u001b[39;00m s\n\u001b[1;32m----> 4\u001b[0m \u001b[38;5;28mprint\u001b[39m(s)\n",
      "\u001b[1;31mNameError\u001b[0m: name 's' is not defined"
     ]
    }
   ],
   "source": [
    "# editing and deleting string\n",
    "s = 'hello world'\n",
    "del s\n",
    "print(s)"
   ]
  },
  {
   "cell_type": "markdown",
   "id": "4580e4a3",
   "metadata": {},
   "source": [
    "# python string are not immutable"
   ]
  },
  {
   "cell_type": "code",
   "execution_count": 52,
   "id": "57c94dc1",
   "metadata": {},
   "outputs": [
    {
     "ename": "TypeError",
     "evalue": "'str' object does not support item deletion",
     "output_type": "error",
     "traceback": [
      "\u001b[1;31m---------------------------------------------------------------------------\u001b[0m",
      "\u001b[1;31mTypeError\u001b[0m                                 Traceback (most recent call last)",
      "Cell \u001b[1;32mIn[52], line 2\u001b[0m\n\u001b[0;32m      1\u001b[0m s \u001b[38;5;241m=\u001b[39m\u001b[38;5;124m'\u001b[39m\u001b[38;5;124mhello world\u001b[39m\u001b[38;5;124m'\u001b[39m\n\u001b[1;32m----> 2\u001b[0m \u001b[38;5;28;01mdel\u001b[39;00m s[\u001b[38;5;241m-\u001b[39m\u001b[38;5;241m1\u001b[39m:\u001b[38;5;241m-\u001b[39m\u001b[38;5;241m5\u001b[39m:\u001b[38;5;241m2\u001b[39m]\n\u001b[0;32m      3\u001b[0m \u001b[38;5;28mprint\u001b[39m(s)\n",
      "\u001b[1;31mTypeError\u001b[0m: 'str' object does not support item deletion"
     ]
    }
   ],
   "source": [
    "s ='hello world'\n",
    "del s[-1:-5:2]\n",
    "print(s)"
   ]
  },
  {
   "cell_type": "code",
   "execution_count": 54,
   "id": "d1d511a1",
   "metadata": {},
   "outputs": [
    {
     "name": "stdout",
     "output_type": "stream",
     "text": [
      "delhi Mumbai\n"
     ]
    }
   ],
   "source": [
    "# operation on stings\n",
    "# arithmatic operation\n",
    "# + concatination\n",
    "print('delhi' + ' '+'Mumbai')"
   ]
  },
  {
   "cell_type": "code",
   "execution_count": 56,
   "id": "83a9169b",
   "metadata": {},
   "outputs": [
    {
     "name": "stdout",
     "output_type": "stream",
     "text": [
      "delhidelhidelhidelhidelhidelhidelhidelhidelhidelhidelhidelhidelhidelhidelhidelhidelhidelhidelhidelhidelhidelhidelhidelhidelhidelhidelhidelhidelhidelhidelhidelhidelhidelhidelhidelhidelhidelhidelhidelhidelhidelhidelhidelhidelhidelhidelhidelhidelhidelhi\n",
      "**************************************************\n"
     ]
    }
   ],
   "source": [
    "# multiplication\n",
    "print('delhi'* 50)\n",
    "print('*'*50)"
   ]
  },
  {
   "cell_type": "code",
   "execution_count": 57,
   "id": "1fcfeec6",
   "metadata": {},
   "outputs": [
    {
     "data": {
      "text/plain": [
       "False"
      ]
     },
     "execution_count": 57,
     "metadata": {},
     "output_type": "execute_result"
    }
   ],
   "source": [
    "# relational operators\n",
    "'delhi' != 'delhi'"
   ]
  },
  {
   "cell_type": "code",
   "execution_count": 59,
   "id": "7149ce4a",
   "metadata": {},
   "outputs": [
    {
     "data": {
      "text/plain": [
       "False"
      ]
     },
     "execution_count": 59,
     "metadata": {},
     "output_type": "execute_result"
    }
   ],
   "source": [
    "'mumbai' == 'delhi'"
   ]
  },
  {
   "cell_type": "code",
   "execution_count": 60,
   "id": "21992b78",
   "metadata": {},
   "outputs": [
    {
     "data": {
      "text/plain": [
       "True"
      ]
     },
     "execution_count": 60,
     "metadata": {},
     "output_type": "execute_result"
    }
   ],
   "source": [
    "'mumbai'> 'delhi'\n",
    "# lexiographically compare word which come first on dictionary"
   ]
  },
  {
   "cell_type": "code",
   "execution_count": 61,
   "id": "b48e77ef",
   "metadata": {},
   "outputs": [
    {
     "data": {
      "text/plain": [
       "False"
      ]
     },
     "execution_count": 61,
     "metadata": {},
     "output_type": "execute_result"
    }
   ],
   "source": [
    "'pune' > 'small pune'"
   ]
  },
  {
   "cell_type": "code",
   "execution_count": 62,
   "id": "19420b45",
   "metadata": {},
   "outputs": [
    {
     "data": {
      "text/plain": [
       "False"
      ]
     },
     "execution_count": 62,
     "metadata": {},
     "output_type": "execute_result"
    }
   ],
   "source": [
    "'Pune'> 'pune'"
   ]
  },
  {
   "cell_type": "code",
   "execution_count": 1,
   "id": "25a56b70",
   "metadata": {},
   "outputs": [
    {
     "data": {
      "text/plain": [
       "'world'"
      ]
     },
     "execution_count": 1,
     "metadata": {},
     "output_type": "execute_result"
    }
   ],
   "source": [
    "# logical opeartors\n",
    "\n",
    "'hello' and 'world'"
   ]
  },
  {
   "cell_type": "code",
   "execution_count": 2,
   "id": "35a1374c",
   "metadata": {},
   "outputs": [
    {
     "data": {
      "text/plain": [
       "'hello'"
      ]
     },
     "execution_count": 2,
     "metadata": {},
     "output_type": "execute_result"
    }
   ],
   "source": [
    "'hello' or 'world'"
   ]
  },
  {
   "cell_type": "code",
   "execution_count": 3,
   "id": "d5fdf61d",
   "metadata": {},
   "outputs": [
    {
     "data": {
      "text/plain": [
       "''"
      ]
     },
     "execution_count": 3,
     "metadata": {},
     "output_type": "execute_result"
    }
   ],
   "source": [
    "'' and 'world'"
   ]
  },
  {
   "cell_type": "code",
   "execution_count": 5,
   "id": "27ad2e3a",
   "metadata": {},
   "outputs": [
    {
     "data": {
      "text/plain": [
       "'world'"
      ]
     },
     "execution_count": 5,
     "metadata": {},
     "output_type": "execute_result"
    }
   ],
   "source": [
    "'' or 'world'"
   ]
  },
  {
   "cell_type": "code",
   "execution_count": 6,
   "id": "de86741c",
   "metadata": {},
   "outputs": [
    {
     "data": {
      "text/plain": [
       "True"
      ]
     },
     "execution_count": 6,
     "metadata": {},
     "output_type": "execute_result"
    }
   ],
   "source": [
    "not ''"
   ]
  },
  {
   "cell_type": "code",
   "execution_count": 7,
   "id": "6dab157d",
   "metadata": {},
   "outputs": [
    {
     "data": {
      "text/plain": [
       "False"
      ]
     },
     "execution_count": 7,
     "metadata": {},
     "output_type": "execute_result"
    }
   ],
   "source": [
    "not 'hello'"
   ]
  },
  {
   "cell_type": "code",
   "execution_count": 9,
   "id": "9b0622fb",
   "metadata": {},
   "outputs": [
    {
     "name": "stdout",
     "output_type": "stream",
     "text": [
      "hhh\n",
      "eee\n",
      "lll\n",
      "lll\n",
      "ooo\n",
      "   \n",
      "www\n",
      "ooo\n",
      "rrr\n",
      "lll\n",
      "ddd\n"
     ]
    }
   ],
   "source": [
    "# loops on stings\n",
    "s = 'hello world'\n",
    "for i in s:\n",
    "    print(i*3)"
   ]
  },
  {
   "cell_type": "code",
   "execution_count": 10,
   "id": "b8e71b3c",
   "metadata": {},
   "outputs": [
    {
     "name": "stdout",
     "output_type": "stream",
     "text": [
      "pune\n",
      "pune\n",
      "pune\n",
      "pune\n",
      "pune\n"
     ]
    }
   ],
   "source": [
    "for i in 'delhi':\n",
    "    print('pune')"
   ]
  },
  {
   "cell_type": "code",
   "execution_count": 11,
   "id": "6c22768e",
   "metadata": {},
   "outputs": [
    {
     "data": {
      "text/plain": [
       "True"
      ]
     },
     "execution_count": 11,
     "metadata": {},
     "output_type": "execute_result"
    }
   ],
   "source": [
    "#memership oprators\n",
    "'D' in 'Dehlhi'"
   ]
  },
  {
   "cell_type": "code",
   "execution_count": 12,
   "id": "6f8fea91",
   "metadata": {},
   "outputs": [
    {
     "data": {
      "text/plain": [
       "False"
      ]
     },
     "execution_count": 12,
     "metadata": {},
     "output_type": "execute_result"
    }
   ],
   "source": [
    "'d' in 'Dehli' # case sensetive"
   ]
  },
  {
   "cell_type": "markdown",
   "id": "672ce297",
   "metadata": {},
   "source": [
    "## string functions"
   ]
  },
  {
   "cell_type": "code",
   "execution_count": 14,
   "id": "926837fe",
   "metadata": {},
   "outputs": [
    {
     "data": {
      "text/plain": [
       "12"
      ]
     },
     "execution_count": 14,
     "metadata": {},
     "output_type": "execute_result"
    }
   ],
   "source": [
    "## common functions\n",
    "## len , max, min, sorted\n",
    "s = 'hello word'\n",
    "len(s)\n",
    "len('ajay is good')"
   ]
  },
  {
   "cell_type": "code",
   "execution_count": 17,
   "id": "5e64454c",
   "metadata": {},
   "outputs": [
    {
     "name": "stdout",
     "output_type": "stream",
     "text": [
      "w\n",
      " \n"
     ]
    }
   ],
   "source": [
    "# max depends upon ascii value\n",
    "print(max(s))\n",
    "print(min(s))"
   ]
  },
  {
   "cell_type": "code",
   "execution_count": 18,
   "id": "a8bcc380",
   "metadata": {},
   "outputs": [
    {
     "data": {
      "text/plain": [
       "[' ', 'd', 'e', 'h', 'l', 'l', 'o', 'o', 'r', 'w']"
      ]
     },
     "execution_count": 18,
     "metadata": {},
     "output_type": "execute_result"
    }
   ],
   "source": [
    "sorted(s)# sorted based on ascii value"
   ]
  },
  {
   "cell_type": "code",
   "execution_count": 19,
   "id": "43d4cbce",
   "metadata": {},
   "outputs": [
    {
     "data": {
      "text/plain": [
       "[' ',\n",
       " ' ',\n",
       " ' ',\n",
       " 'a',\n",
       " 'a',\n",
       " 'b',\n",
       " 'd',\n",
       " 'g',\n",
       " 'i',\n",
       " 'j',\n",
       " 'o',\n",
       " 'o',\n",
       " 'o',\n",
       " 's',\n",
       " 'y',\n",
       " 'y']"
      ]
     },
     "execution_count": 19,
     "metadata": {},
     "output_type": "execute_result"
    }
   ],
   "source": [
    "\n",
    "sorted('ajay is good boy')"
   ]
  },
  {
   "cell_type": "code",
   "execution_count": 20,
   "id": "162b98d0",
   "metadata": {},
   "outputs": [
    {
     "data": {
      "text/plain": [
       "'Hello world'"
      ]
     },
     "execution_count": 20,
     "metadata": {},
     "output_type": "execute_result"
    }
   ],
   "source": [
    "# capitalize\\ title\\ upper\\lower\\ swapcase\n",
    "\n",
    "s = 'hello world'\n",
    "s.capitalize()# capitalize only first latter of sentence"
   ]
  },
  {
   "cell_type": "code",
   "execution_count": 21,
   "id": "2aca6ca4",
   "metadata": {},
   "outputs": [
    {
     "data": {
      "text/plain": [
       "'Hello World'"
      ]
     },
     "execution_count": 21,
     "metadata": {},
     "output_type": "execute_result"
    }
   ],
   "source": [
    "\n",
    "s = 'hello world'\n",
    "s.title()# captial only first letter every word"
   ]
  },
  {
   "cell_type": "code",
   "execution_count": 22,
   "id": "35d6ba12",
   "metadata": {},
   "outputs": [
    {
     "data": {
      "text/plain": [
       "'HELLO WORLD'"
      ]
     },
     "execution_count": 22,
     "metadata": {},
     "output_type": "execute_result"
    }
   ],
   "source": [
    "s.upper()"
   ]
  },
  {
   "cell_type": "code",
   "execution_count": 23,
   "id": "a440a545",
   "metadata": {},
   "outputs": [
    {
     "data": {
      "text/plain": [
       "'hello world'"
      ]
     },
     "execution_count": 23,
     "metadata": {},
     "output_type": "execute_result"
    }
   ],
   "source": [
    "s.lower()\n"
   ]
  },
  {
   "cell_type": "code",
   "execution_count": 24,
   "id": "e58ded79",
   "metadata": {},
   "outputs": [
    {
     "data": {
      "text/plain": [
       "'hElLO wORlD'"
      ]
     },
     "execution_count": 24,
     "metadata": {},
     "output_type": "execute_result"
    }
   ],
   "source": [
    "'HeLlo WorLd'.swapcase()"
   ]
  },
  {
   "cell_type": "code",
   "execution_count": 29,
   "id": "4b63c163",
   "metadata": {},
   "outputs": [
    {
     "data": {
      "text/plain": [
       "2"
      ]
     },
     "execution_count": 29,
     "metadata": {},
     "output_type": "execute_result"
    }
   ],
   "source": [
    "## count, find , index\n",
    "\n",
    "'my name is ajay'.count('a')\n",
    "' the great is only thing'.count('g')"
   ]
  },
  {
   "cell_type": "code",
   "execution_count": 31,
   "id": "ba922392",
   "metadata": {},
   "outputs": [
    {
     "data": {
      "text/plain": [
       "-1"
      ]
     },
     "execution_count": 31,
     "metadata": {},
     "output_type": "execute_result"
    }
   ],
   "source": [
    "'my name is ajay'.find('is')\n",
    "\n",
    "'my name is ajay'.find('ram')"
   ]
  },
  {
   "cell_type": "code",
   "execution_count": 33,
   "id": "336135aa",
   "metadata": {},
   "outputs": [
    {
     "ename": "ValueError",
     "evalue": "substring not found",
     "output_type": "error",
     "traceback": [
      "\u001b[1;31m---------------------------------------------------------------------------\u001b[0m",
      "\u001b[1;31mValueError\u001b[0m                                Traceback (most recent call last)",
      "Cell \u001b[1;32mIn[33], line 2\u001b[0m\n\u001b[0;32m      1\u001b[0m \u001b[38;5;124m'\u001b[39m\u001b[38;5;124mmy name is vijay\u001b[39m\u001b[38;5;124m'\u001b[39m\u001b[38;5;241m.\u001b[39mindex(\u001b[38;5;124m'\u001b[39m\u001b[38;5;124mi\u001b[39m\u001b[38;5;124m'\u001b[39m)\n\u001b[1;32m----> 2\u001b[0m \u001b[38;5;124m'\u001b[39m\u001b[38;5;124mmy name is vijay\u001b[39m\u001b[38;5;124m'\u001b[39m\u001b[38;5;241m.\u001b[39mindex(\u001b[38;5;124m'\u001b[39m\u001b[38;5;124mz\u001b[39m\u001b[38;5;124m'\u001b[39m)\n",
      "\u001b[1;31mValueError\u001b[0m: substring not found"
     ]
    }
   ],
   "source": [
    "'my name is vijay'.index('i')\n",
    "'my name is vijay'.index('z')"
   ]
  },
  {
   "cell_type": "code",
   "execution_count": 35,
   "id": "bddda509",
   "metadata": {},
   "outputs": [
    {
     "data": {
      "text/plain": [
       "False"
      ]
     },
     "execution_count": 35,
     "metadata": {},
     "output_type": "execute_result"
    }
   ],
   "source": [
    "# endwihth , statswith\n",
    "\n",
    "'my name is ajay'.endswith('my')"
   ]
  },
  {
   "cell_type": "code",
   "execution_count": 36,
   "id": "7d28327b",
   "metadata": {},
   "outputs": [
    {
     "data": {
      "text/plain": [
       "True"
      ]
     },
     "execution_count": 36,
     "metadata": {},
     "output_type": "execute_result"
    }
   ],
   "source": [
    "'my name is ajay'.endswith('y')"
   ]
  },
  {
   "cell_type": "code",
   "execution_count": 37,
   "id": "ce5ab87f",
   "metadata": {},
   "outputs": [
    {
     "data": {
      "text/plain": [
       "'Hi my name is ajay and I am a male'"
      ]
     },
     "execution_count": 37,
     "metadata": {},
     "output_type": "execute_result"
    }
   ],
   "source": [
    "# format\n",
    "name = 'ajay'\n",
    "gender = 'male'\n",
    "'Hi my name is {} and I am a {}'.format(name,gender)"
   ]
  },
  {
   "cell_type": "code",
   "execution_count": 38,
   "id": "8ab23ded",
   "metadata": {},
   "outputs": [
    {
     "data": {
      "text/plain": [
       "True"
      ]
     },
     "execution_count": 38,
     "metadata": {},
     "output_type": "execute_result"
    }
   ],
   "source": [
    "#isalnum \\ isalpha \\ isdigit \\ isidentifier\n",
    "\n",
    "'nitis134'.isalnum()"
   ]
  },
  {
   "cell_type": "code",
   "execution_count": 39,
   "id": "bffc4d54",
   "metadata": {},
   "outputs": [
    {
     "data": {
      "text/plain": [
       "False"
      ]
     },
     "execution_count": 39,
     "metadata": {},
     "output_type": "execute_result"
    }
   ],
   "source": [
    "'nitis134%'.isalnum()"
   ]
  },
  {
   "cell_type": "code",
   "execution_count": 40,
   "id": "8896b8d6",
   "metadata": {},
   "outputs": [
    {
     "data": {
      "text/plain": [
       "True"
      ]
     },
     "execution_count": 40,
     "metadata": {},
     "output_type": "execute_result"
    }
   ],
   "source": [
    "'123'.isdigit()"
   ]
  },
  {
   "cell_type": "code",
   "execution_count": 41,
   "id": "837bc075",
   "metadata": {},
   "outputs": [
    {
     "data": {
      "text/plain": [
       "False"
      ]
     },
     "execution_count": 41,
     "metadata": {},
     "output_type": "execute_result"
    }
   ],
   "source": [
    "'123abs'.isdigit()"
   ]
  },
  {
   "cell_type": "code",
   "execution_count": 42,
   "id": "37b9586f",
   "metadata": {},
   "outputs": [
    {
     "data": {
      "text/plain": [
       "True"
      ]
     },
     "execution_count": 42,
     "metadata": {},
     "output_type": "execute_result"
    }
   ],
   "source": [
    "'name'.isidentifier()"
   ]
  },
  {
   "cell_type": "code",
   "execution_count": 43,
   "id": "055cc02c",
   "metadata": {},
   "outputs": [
    {
     "data": {
      "text/plain": [
       "False"
      ]
     },
     "execution_count": 43,
     "metadata": {},
     "output_type": "execute_result"
    }
   ],
   "source": [
    "'name-ajay'.isidentifier()"
   ]
  },
  {
   "cell_type": "code",
   "execution_count": 45,
   "id": "a7a18786",
   "metadata": {},
   "outputs": [
    {
     "data": {
      "text/plain": [
       "['h', ' my name ', 's ajay']"
      ]
     },
     "execution_count": 45,
     "metadata": {},
     "output_type": "execute_result"
    }
   ],
   "source": [
    "#split/ join\n",
    "\n",
    "'hi my name is ajay'.split('i')# convert to list by spliting by comma and give to world"
   ]
  },
  {
   "cell_type": "code",
   "execution_count": 46,
   "id": "4d55e703",
   "metadata": {},
   "outputs": [
    {
     "data": {
      "text/plain": [
       "'h  my name  s ajay'"
      ]
     },
     "execution_count": 46,
     "metadata": {},
     "output_type": "execute_result"
    }
   ],
   "source": [
    "\n",
    "\" \".join(['h', ' my name ', 's ajay'])"
   ]
  },
  {
   "cell_type": "code",
   "execution_count": 47,
   "id": "c64251a9",
   "metadata": {},
   "outputs": [
    {
     "data": {
      "text/plain": [
       "'h - my name  -s ajay'"
      ]
     },
     "execution_count": 47,
     "metadata": {},
     "output_type": "execute_result"
    }
   ],
   "source": [
    "\" -\".join(['h', ' my name ', 's ajay'])"
   ]
  },
  {
   "cell_type": "code",
   "execution_count": 48,
   "id": "cba56f8d",
   "metadata": {},
   "outputs": [
    {
     "data": {
      "text/plain": [
       "'hi my name is Billionor'"
      ]
     },
     "execution_count": 48,
     "metadata": {},
     "output_type": "execute_result"
    }
   ],
   "source": [
    "# replace\n",
    "'hi my name is ajay'.replace('ajay','Billionor')"
   ]
  },
  {
   "cell_type": "code",
   "execution_count": 49,
   "id": "c499a8ee",
   "metadata": {},
   "outputs": [
    {
     "data": {
      "text/plain": [
       "'hi my nBillionorme is BillionorjBillionory'"
      ]
     },
     "execution_count": 49,
     "metadata": {},
     "output_type": "execute_result"
    }
   ],
   "source": [
    "'hi my name is ajay'.replace('a','Billionor')"
   ]
  },
  {
   "cell_type": "code",
   "execution_count": 51,
   "id": "ccde4f9c",
   "metadata": {},
   "outputs": [
    {
     "data": {
      "text/plain": [
       "'nitish'"
      ]
     },
     "execution_count": 51,
     "metadata": {},
     "output_type": "execute_result"
    }
   ],
   "source": [
    "# strip\n",
    "'nitish                         '.strip()"
   ]
  },
  {
   "cell_type": "code",
   "execution_count": 52,
   "id": "8ef47f2e",
   "metadata": {},
   "outputs": [
    {
     "data": {
      "text/plain": [
       "'ajay pra nagar'"
      ]
     },
     "execution_count": 52,
     "metadata": {},
     "output_type": "execute_result"
    }
   ],
   "source": [
    "' ajay pra nagar  '.strip()# only last spaces are removed\n"
   ]
  },
  {
   "cell_type": "code",
   "execution_count": null,
   "id": "7f877571",
   "metadata": {},
   "outputs": [],
   "source": []
  }
 ],
 "metadata": {
  "kernelspec": {
   "display_name": "Python 3 (ipykernel)",
   "language": "python",
   "name": "python3"
  },
  "language_info": {
   "codemirror_mode": {
    "name": "ipython",
    "version": 3
   },
   "file_extension": ".py",
   "mimetype": "text/x-python",
   "name": "python",
   "nbconvert_exporter": "python",
   "pygments_lexer": "ipython3",
   "version": "3.11.7"
  }
 },
 "nbformat": 4,
 "nbformat_minor": 5
}
